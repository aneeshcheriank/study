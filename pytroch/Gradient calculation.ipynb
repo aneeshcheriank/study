{
 "cells": [
  {
   "cell_type": "markdown",
   "id": "a33ed1f1-1740-472a-b706-2ab8eeead739",
   "metadata": {},
   "source": [
    "## Gradient calculation\n",
    "- requires_grad argument in defining tensor\n",
    "- create a computational graph for every operation\n",
    "- this will help to find the gradient by backpropagation"
   ]
  },
  {
   "cell_type": "code",
   "execution_count": 7,
   "id": "e510aac6-8ac7-4a94-aa9a-bca5d0b53b0f",
   "metadata": {},
   "outputs": [
    {
     "name": "stdout",
     "output_type": "stream",
     "text": [
      "tensor([ 0.3290, -2.2785,  2.3098], requires_grad=True)\n",
      "tensor([ 2.3290, -0.2785,  4.3098], grad_fn=<AddBackward0>)\n"
     ]
    }
   ],
   "source": [
    "import torch\n",
    "\n",
    "x = torch.randn(3, requires_grad=True)\n",
    "\n",
    "print(x)\n",
    "\n",
    "y = x+2\n",
    "print(y)\n",
    "\n",
    "z = y*y\n",
    "z = z.mean()\n"
   ]
  },
  {
   "cell_type": "markdown",
   "id": "a8cd61b0-2bae-459a-996f-9a832528075a",
   "metadata": {},
   "source": [
    "- printing y we can see the grad_fn\n",
    "- calculate gradient y.backward()\n",
    "  - dy/dx\n",
    "  - x.grad"
   ]
  },
  {
   "cell_type": "code",
   "execution_count": 9,
   "id": "c55cb99e-29d4-4a72-a7d1-b53c8d419302",
   "metadata": {},
   "outputs": [
    {
     "name": "stdout",
     "output_type": "stream",
     "text": [
      "tensor([ 1.5527, -0.1857,  2.8732])\n"
     ]
    }
   ],
   "source": [
    "z.backward()\n",
    "print(x.grad)"
   ]
  },
  {
   "cell_type": "markdown",
   "id": "3b2da9ed-cf39-4781-b913-48e2ca0c6478",
   "metadata": {},
   "source": [
    "## to eliminate gradient tracking\n",
    "- x.require_grad_(False)\n",
    "  - inplace\n",
    "- x.detach()\n",
    "  - create a new tensor\n",
    "- with torch.no_grad()"
   ]
  },
  {
   "cell_type": "code",
   "execution_count": null,
   "id": "33992573-03d3-4d72-8c1c-a0c2098a7e99",
   "metadata": {},
   "outputs": [],
   "source": []
  }
 ],
 "metadata": {
  "kernelspec": {
   "display_name": "Python 3 (ipykernel)",
   "language": "python",
   "name": "python3"
  },
  "language_info": {
   "codemirror_mode": {
    "name": "ipython",
    "version": 3
   },
   "file_extension": ".py",
   "mimetype": "text/x-python",
   "name": "python",
   "nbconvert_exporter": "python",
   "pygments_lexer": "ipython3",
   "version": "3.10.12"
  }
 },
 "nbformat": 4,
 "nbformat_minor": 5
}
