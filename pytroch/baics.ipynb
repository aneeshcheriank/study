{
 "cells": [
  {
   "cell_type": "code",
   "execution_count": 2,
   "id": "fa51e26f-dce8-4ae6-969b-494d25045dae",
   "metadata": {},
   "outputs": [
    {
     "name": "stdout",
     "output_type": "stream",
     "text": [
      "tensor([[1., 1.],\n",
      "        [1., 1.]])\n"
     ]
    }
   ],
   "source": [
    "# https://www.youtube.com/watch?v=exaWOE8jvy8&list=PLqnslRFeH2UrcDBWF5mfPGpqQDSta6VK4&index=2\n",
    "import torch\n",
    "\n",
    "x = torch.ones(2, 2, dtype=torch.float)\n",
    "print(x)"
   ]
  },
  {
   "cell_type": "code",
   "execution_count": 4,
   "id": "98c9e8a0-58b2-4f7d-8420-2e99f49edd30",
   "metadata": {},
   "outputs": [
    {
     "name": "stdout",
     "output_type": "stream",
     "text": [
      "torch.Size([2, 2])\n"
     ]
    }
   ],
   "source": [
    "print(x.size())"
   ]
  },
  {
   "cell_type": "code",
   "execution_count": 5,
   "id": "aa3977bf-cba8-44d7-8bac-c8921e0af536",
   "metadata": {},
   "outputs": [
    {
     "name": "stdout",
     "output_type": "stream",
     "text": [
      "tensor([[0.8887, 1.0230],\n",
      "        [1.1460, 1.6506]])\n"
     ]
    }
   ],
   "source": [
    "x = torch.rand(2, 2)\n",
    "y = torch.rand(2, 2)\n",
    "print(x+y)"
   ]
  },
  {
   "cell_type": "code",
   "execution_count": 6,
   "id": "757b508a-280c-4b92-ae74-6cc8c4ce32bc",
   "metadata": {},
   "outputs": [
    {
     "data": {
      "text/plain": [
       "tensor([[0.8887, 1.0230],\n",
       "        [1.1460, 1.6506]])"
      ]
     },
     "execution_count": 6,
     "metadata": {},
     "output_type": "execute_result"
    }
   ],
   "source": [
    "# inplace addition\n",
    "y.add_(x)\n",
    "# Every function with trailing underscore will do in place operation"
   ]
  },
  {
   "cell_type": "code",
   "execution_count": 9,
   "id": "c257ac7e-47bd-475c-b415-c194d856c38c",
   "metadata": {},
   "outputs": [
    {
     "name": "stdout",
     "output_type": "stream",
     "text": [
      "tensor([[0.5479, 0.2890, 0.4759, 0.6456],\n",
      "        [0.2846, 0.0521, 0.4834, 0.6566],\n",
      "        [0.8480, 0.2816, 0.4129, 0.5446]])\n",
      "tensor([0.4834, 0.6566])\n"
     ]
    }
   ],
   "source": [
    "x = torch.rand(3, 4)\n",
    "print(x)\n",
    "print(x[1, 2:])"
   ]
  },
  {
   "cell_type": "code",
   "execution_count": 11,
   "id": "58f82793-da0e-4d10-88c1-abba0f93f86a",
   "metadata": {},
   "outputs": [
    {
     "name": "stdout",
     "output_type": "stream",
     "text": [
      "tensor([[0, 1],\n",
      "        [2, 3]])\n"
     ]
    }
   ],
   "source": [
    "x = torch.arange(4).view(2,2)\n",
    "print(x)"
   ]
  },
  {
   "cell_type": "code",
   "execution_count": 14,
   "id": "443d610d-5a44-48e6-8663-4d4b8f0cd7ee",
   "metadata": {},
   "outputs": [
    {
     "name": "stdout",
     "output_type": "stream",
     "text": [
      "tensor([[0.3948, 0.4065, 0.1250],\n",
      "        [0.2721, 0.4890, 0.5249]], dtype=torch.float64)\n"
     ]
    }
   ],
   "source": [
    "# from numpy to troch.tensor\n",
    "import numpy as np\n",
    "\n",
    "a = np.random.rand(2,3)\n",
    "a = torch.tensor(a)\n",
    "print(a)"
   ]
  },
  {
   "cell_type": "code",
   "execution_count": 18,
   "id": "0d8fb523-1a42-46e7-b9f0-3bcba15d4ee3",
   "metadata": {},
   "outputs": [
    {
     "name": "stdout",
     "output_type": "stream",
     "text": [
      "[[0.8909623  0.14825207 0.2820357 ]\n",
      " [0.91137207 0.11951399 0.83375055]]\n"
     ]
    }
   ],
   "source": [
    "# from tensor to numpy\n",
    "a = torch.rand(2, 3)\n",
    "print(a.numpy())"
   ]
  },
  {
   "cell_type": "markdown",
   "id": "3b493b82-fb54-4a19-a686-3fe1d2bbdc84",
   "metadata": {},
   "source": [
    "- if the tensor and the numpy array is in cpu, then modifying tensor or numpy arry will impact the other"
   ]
  },
  {
   "cell_type": "code",
   "execution_count": null,
   "id": "d7fcfa95-2e7b-417e-acdf-762d0b2510cf",
   "metadata": {},
   "outputs": [],
   "source": []
  }
 ],
 "metadata": {
  "kernelspec": {
   "display_name": "Python 3 (ipykernel)",
   "language": "python",
   "name": "python3"
  },
  "language_info": {
   "codemirror_mode": {
    "name": "ipython",
    "version": 3
   },
   "file_extension": ".py",
   "mimetype": "text/x-python",
   "name": "python",
   "nbconvert_exporter": "python",
   "pygments_lexer": "ipython3",
   "version": "3.10.12"
  }
 },
 "nbformat": 4,
 "nbformat_minor": 5
}
