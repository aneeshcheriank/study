{
 "cells": [
  {
   "cell_type": "markdown",
   "id": "42904b61-8209-4d32-a022-1dd6666db68f",
   "metadata": {},
   "source": [
    "## TypeDict\n",
    "- used to specify the values in a dictionary\n",
    "  - what are the values it takes\n",
    "  - can restrict the names\n",
    "  - restrict the value type\n",
    "  - can specify the required values `Required[int]`\n",
    "  - can specify the non_requied values `Notrequired[int]`\n",
    "- Required and NotRequired are the types from the typing module"
   ]
  },
  {
   "cell_type": "code",
   "execution_count": 4,
   "id": "68e57b68-7c1c-41eb-b3d7-4c07cfa9cca4",
   "metadata": {},
   "outputs": [
    {
     "name": "stdout",
     "output_type": "stream",
     "text": [
      "{'x': 10, 'y': 10}\n"
     ]
    }
   ],
   "source": [
    "from typing import TypedDict, Annotated\n",
    "\n",
    "class Test(TypedDict):\n",
    "    x: int\n",
    "    y: int\n",
    "\n",
    "test: Test = {'x': 10, 'y': 10}\n",
    "print(test)"
   ]
  },
  {
   "cell_type": "code",
   "execution_count": 6,
   "id": "32fee836-3905-4e4f-a294-90b547db1783",
   "metadata": {},
   "outputs": [
    {
     "name": "stdout",
     "output_type": "stream",
     "text": [
      "{'for': 100, 'against': 45}\n"
     ]
    }
   ],
   "source": [
    "## Suppose need to use a keyword used by the system\n",
    "\n",
    "Vote = TypedDict('Vote', {'for': int, 'against': int}, total=True)\n",
    "# total -> Should all the keys be required\n",
    "# If so we need to assign values to all the keys\n",
    "\n",
    "vote: Vote = {'for': 100, 'against': 45}\n",
    "print(vote)"
   ]
  },
  {
   "cell_type": "markdown",
   "id": "ab1ea2f5-2c7a-41c0-ab39-91beb3dcf981",
   "metadata": {},
   "source": [
    "## Type annotations"
   ]
  },
  {
   "cell_type": "code",
   "execution_count": 7,
   "id": "a5115a65-b339-4ff2-aa1e-16851ed5d0fa",
   "metadata": {},
   "outputs": [
    {
     "name": "stdout",
     "output_type": "stream",
     "text": [
      "sunny\n"
     ]
    }
   ],
   "source": [
    "# annotating variables\n",
    "x: int = 10\n",
    "weather: str = 'sunny'\n",
    "\n",
    "print(weather)"
   ]
  },
  {
   "cell_type": "code",
   "execution_count": null,
   "id": "8b78b978-d445-4c43-8155-c5ac0e22bf35",
   "metadata": {},
   "outputs": [],
   "source": [
    "from typed import Annotated\n",
    "# We can give additional metadata for a variable along with type\n",
    "# handling the metadata should be handled in the custom code\n",
    "\n",
    "@dataclass\n",
    "class ValueRange:\n",
    "    lo: int\n",
    "    hi: int\n",
    "\n",
    "T1 = Annotated[int, ValueRange(-10, 5)]\n",
    "# The value range should be taken care of inside the custom code"
   ]
  },
  {
   "cell_type": "markdown",
   "id": "e3ea5aa1-54c1-4663-979f-3477309b2f4d",
   "metadata": {},
   "source": [
    "## Operator Module"
   ]
  },
  {
   "cell_type": "code",
   "execution_count": 10,
   "id": "6babf9eb-d286-4e04-87b2-a84552d8a240",
   "metadata": {},
   "outputs": [
    {
     "data": {
      "text/plain": [
       "3"
      ]
     },
     "execution_count": 10,
     "metadata": {},
     "output_type": "execute_result"
    }
   ],
   "source": [
    "import operator\n",
    "\n",
    "# dir(operator)\n",
    "# list the method of the operator\n",
    "\n",
    "operator.add(1, 2)"
   ]
  },
  {
   "cell_type": "code",
   "execution_count": null,
   "id": "d4827b2a-fa4c-475f-96ec-353ce8db9156",
   "metadata": {},
   "outputs": [],
   "source": []
  }
 ],
 "metadata": {
  "kernelspec": {
   "display_name": "Python 3 (ipykernel)",
   "language": "python",
   "name": "python3"
  },
  "language_info": {
   "codemirror_mode": {
    "name": "ipython",
    "version": 3
   },
   "file_extension": ".py",
   "mimetype": "text/x-python",
   "name": "python",
   "nbconvert_exporter": "python",
   "pygments_lexer": "ipython3",
   "version": "3.10.12"
  }
 },
 "nbformat": 4,
 "nbformat_minor": 5
}
