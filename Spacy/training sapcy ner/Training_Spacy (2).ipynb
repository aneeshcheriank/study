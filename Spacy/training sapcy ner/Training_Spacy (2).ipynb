{
  "nbformat": 4,
  "nbformat_minor": 0,
  "metadata": {
    "colab": {
      "provenance": []
    },
    "kernelspec": {
      "name": "python3",
      "display_name": "Python 3"
    },
    "language_info": {
      "name": "python"
    }
  },
  "cells": [
    {
      "cell_type": "markdown",
      "source": [
        "## install Spcy\n",
        "- install spacy\n",
        "- download the langauage package\n",
        "  - web core small package"
      ],
      "metadata": {
        "id": "0QWYDLke73Lj"
      }
    },
    {
      "cell_type": "code",
      "execution_count": null,
      "metadata": {
        "colab": {
          "base_uri": "https://localhost:8080/"
        },
        "id": "taVNdzKsGnF8",
        "outputId": "1f61cec5-0dee-4f0c-fc4a-3cbecdc503d6"
      },
      "outputs": [
        {
          "output_type": "stream",
          "name": "stdout",
          "text": [
            "\u001b[2K     \u001b[90m━━━━━━━━━━━━━━━━━━━━━━━━━━━━━━━━━━━━━━━━\u001b[0m \u001b[32m587.7/587.7 MB\u001b[0m \u001b[31m842.4 kB/s\u001b[0m eta \u001b[36m0:00:00\u001b[0m\n",
            "\u001b[?25h\u001b[38;5;2m✔ Download and installation successful\u001b[0m\n",
            "You can now load the package via spacy.load('en_core_web_lg')\n",
            "\u001b[38;5;3m⚠ Restart to reload dependencies\u001b[0m\n",
            "If you are in a Jupyter or Colab notebook, you may need to restart Python in\n",
            "order to load all the package's dependencies. You can do this by selecting the\n",
            "'Restart kernel' or 'Restart runtime' option.\n"
          ]
        }
      ],
      "source": [
        "!pip install spacy -q\n",
        "!python -m spacy download en_core_web_lg -q"
      ]
    },
    {
      "cell_type": "markdown",
      "source": [
        "## Text\n",
        "- need a text to perform named entity recognition (NER)"
      ],
      "metadata": {
        "id": "a6M0mwjQ8BLW"
      }
    },
    {
      "cell_type": "code",
      "source": [
        "text = '''\n",
        "Abraham Lincoln (/ˈlɪŋkən/ LINK-ən; February 12, 1809 – April 15, 1865) was an\n",
        "American lawyer, politician, and statesman who served as the 16th president of\n",
        "the United States from 1861 until his assassination in 1865. He led the\n",
        "United States through the American Civil War, defending the nation as a\n",
        "constitutional union, defeating the insurgent Confederacy, playing a major\n",
        "role in the abolition of slavery, expanding the power of the federal government,\n",
        "and modernizing the U.S. economy.\n",
        "'''"
      ],
      "metadata": {
        "id": "8LjRCjptlQco"
      },
      "execution_count": null,
      "outputs": []
    },
    {
      "cell_type": "markdown",
      "source": [
        "## Perform NER\n",
        "- convert the text to doc object\n",
        "- find the entities from the doc object (doc.ents)\n",
        "  - ent.label_ -> label of the ner\n",
        "  - ent.text -> ner identified, text"
      ],
      "metadata": {
        "id": "B3pcVcEm8L5-"
      }
    },
    {
      "cell_type": "code",
      "source": [
        "import spacy\n",
        "nlp = spacy.load('en_core_web_lg')\n",
        "\n",
        "doc = nlp(text)\n",
        "\n",
        "items = {}\n",
        "for ent in doc.ents:\n",
        "  if ent.label_ not in items:\n",
        "    items[ent.label_] = []\n",
        "    items[ent.label_].append(ent.text)\n",
        "  else:\n",
        "    if ent.text not in items[ent.label_]:\n",
        "      items[ent.label_].append(ent.text)\n",
        "\n",
        "for key, value in items.items():\n",
        "  print(f'{key}: {value}')"
      ],
      "metadata": {
        "colab": {
          "base_uri": "https://localhost:8080/"
        },
        "id": "N2Hn7ur0Gv95",
        "outputId": "0f112622-ef03-46db-b1f4-58aa85bf6505"
      },
      "execution_count": null,
      "outputs": [
        {
          "output_type": "stream",
          "name": "stdout",
          "text": [
            "PERSON: ['Abraham Lincoln']\n",
            "DATE: ['February 12, 1809', 'April 15, 1865', '1861', '1865']\n",
            "NORP: ['American']\n",
            "ORDINAL: ['16th']\n",
            "GPE: ['the United States', 'United States', 'U.S.']\n",
            "EVENT: ['the American Civil War']\n",
            "ORG: ['Confederacy']\n"
          ]
        }
      ]
    },
    {
      "cell_type": "markdown",
      "source": [
        "## Rendering the NER identified"
      ],
      "metadata": {
        "id": "9MbDPpus8Q6-"
      }
    },
    {
      "cell_type": "code",
      "source": [
        "from spacy import displacy\n",
        "\n",
        "displacy.render(doc, style='ent')"
      ],
      "metadata": {
        "id": "183gU5q-G1_6",
        "colab": {
          "base_uri": "https://localhost:8080/",
          "height": 297
        },
        "outputId": "f71d0bff-61ed-475c-c1e2-528710a9ce21"
      },
      "execution_count": null,
      "outputs": [
        {
          "output_type": "display_data",
          "data": {
            "text/plain": [
              "<IPython.core.display.HTML object>"
            ],
            "text/html": [
              "<span class=\"tex2jax_ignore\"><div class=\"entities\" style=\"line-height: 2.5; direction: ltr\"><br>\n",
              "<mark class=\"entity\" style=\"background: #aa9cfc; padding: 0.45em 0.6em; margin: 0 0.25em; line-height: 1; border-radius: 0.35em;\">\n",
              "    Abraham Lincoln\n",
              "    <span style=\"font-size: 0.8em; font-weight: bold; line-height: 1; border-radius: 0.35em; vertical-align: middle; margin-left: 0.5rem\">PERSON</span>\n",
              "</mark>\n",
              " (/ˈlɪŋkən/ LINK-ən; \n",
              "<mark class=\"entity\" style=\"background: #bfe1d9; padding: 0.45em 0.6em; margin: 0 0.25em; line-height: 1; border-radius: 0.35em;\">\n",
              "    February 12, 1809 –\n",
              "    <span style=\"font-size: 0.8em; font-weight: bold; line-height: 1; border-radius: 0.35em; vertical-align: middle; margin-left: 0.5rem\">DATE</span>\n",
              "</mark>\n",
              " \n",
              "<mark class=\"entity\" style=\"background: #bfe1d9; padding: 0.45em 0.6em; margin: 0 0.25em; line-height: 1; border-radius: 0.35em;\">\n",
              "    April 15, 1865\n",
              "    <span style=\"font-size: 0.8em; font-weight: bold; line-height: 1; border-radius: 0.35em; vertical-align: middle; margin-left: 0.5rem\">DATE</span>\n",
              "</mark>\n",
              ") was an<br>\n",
              "<mark class=\"entity\" style=\"background: #c887fb; padding: 0.45em 0.6em; margin: 0 0.25em; line-height: 1; border-radius: 0.35em;\">\n",
              "    American\n",
              "    <span style=\"font-size: 0.8em; font-weight: bold; line-height: 1; border-radius: 0.35em; vertical-align: middle; margin-left: 0.5rem\">NORP</span>\n",
              "</mark>\n",
              " lawyer, politician, and statesman who served as the \n",
              "<mark class=\"entity\" style=\"background: #e4e7d2; padding: 0.45em 0.6em; margin: 0 0.25em; line-height: 1; border-radius: 0.35em;\">\n",
              "    16th\n",
              "    <span style=\"font-size: 0.8em; font-weight: bold; line-height: 1; border-radius: 0.35em; vertical-align: middle; margin-left: 0.5rem\">ORDINAL</span>\n",
              "</mark>\n",
              " president of<br>\n",
              "<mark class=\"entity\" style=\"background: #feca74; padding: 0.45em 0.6em; margin: 0 0.25em; line-height: 1; border-radius: 0.35em;\">\n",
              "    the United States\n",
              "    <span style=\"font-size: 0.8em; font-weight: bold; line-height: 1; border-radius: 0.35em; vertical-align: middle; margin-left: 0.5rem\">GPE</span>\n",
              "</mark>\n",
              " from \n",
              "<mark class=\"entity\" style=\"background: #bfe1d9; padding: 0.45em 0.6em; margin: 0 0.25em; line-height: 1; border-radius: 0.35em;\">\n",
              "    1861\n",
              "    <span style=\"font-size: 0.8em; font-weight: bold; line-height: 1; border-radius: 0.35em; vertical-align: middle; margin-left: 0.5rem\">DATE</span>\n",
              "</mark>\n",
              " until his assassination in \n",
              "<mark class=\"entity\" style=\"background: #bfe1d9; padding: 0.45em 0.6em; margin: 0 0.25em; line-height: 1; border-radius: 0.35em;\">\n",
              "    1865\n",
              "    <span style=\"font-size: 0.8em; font-weight: bold; line-height: 1; border-radius: 0.35em; vertical-align: middle; margin-left: 0.5rem\">DATE</span>\n",
              "</mark>\n",
              ". He led the<br>\n",
              "<mark class=\"entity\" style=\"background: #feca74; padding: 0.45em 0.6em; margin: 0 0.25em; line-height: 1; border-radius: 0.35em;\">\n",
              "    United States\n",
              "    <span style=\"font-size: 0.8em; font-weight: bold; line-height: 1; border-radius: 0.35em; vertical-align: middle; margin-left: 0.5rem\">GPE</span>\n",
              "</mark>\n",
              " through \n",
              "<mark class=\"entity\" style=\"background: #ffeb80; padding: 0.45em 0.6em; margin: 0 0.25em; line-height: 1; border-radius: 0.35em;\">\n",
              "    the American Civil War\n",
              "    <span style=\"font-size: 0.8em; font-weight: bold; line-height: 1; border-radius: 0.35em; vertical-align: middle; margin-left: 0.5rem\">EVENT</span>\n",
              "</mark>\n",
              ", defending the nation as a<br>constitutional union, defeating the insurgent Confederacy, playing a major<br>role in the abolition of slavery, expanding the power of the federal government,<br>and modernizing the \n",
              "<mark class=\"entity\" style=\"background: #feca74; padding: 0.45em 0.6em; margin: 0 0.25em; line-height: 1; border-radius: 0.35em;\">\n",
              "    U.S.\n",
              "    <span style=\"font-size: 0.8em; font-weight: bold; line-height: 1; border-radius: 0.35em; vertical-align: middle; margin-left: 0.5rem\">GPE</span>\n",
              "</mark>\n",
              " economy.<br></div></span>"
            ]
          },
          "metadata": {}
        }
      ]
    },
    {
      "cell_type": "markdown",
      "source": [
        "## Train a Language Model using Spacy\n",
        "- quick start guide: https://spacy.io/usage/training\n",
        "- config.cfg file\n",
        "  - generate initial configuration file from the quick start page\n",
        "  - hyper parameters\n",
        "- run `init config` command\n",
        "- run `train` command\n",
        "- data\n",
        "  - https://www.kaggle.com/datasets/finalepoch/medical-ner\n",
        "  - required data format for spacy\n",
        "    - dict\n",
        "    - `{text: 'text', entities: [(start, end, label)]}`\n",
        "\n"
      ],
      "metadata": {
        "id": "oR5CXfay9MkP"
      }
    },
    {
      "cell_type": "code",
      "source": [
        "# load and process the data\n",
        "# data is as json object\n",
        "import json\n",
        "\n",
        "with open('data/Corona2.json', 'r') as f:\n",
        "  data = json.load(f)\n",
        "\n",
        "data['examples'][0]\n",
        "data['examples'][0].keys()"
      ],
      "metadata": {
        "id": "1nwbpr2BoCx7",
        "colab": {
          "base_uri": "https://localhost:8080/"
        },
        "outputId": "e76e0622-ffca-4fe1-f376-0854edbf4b04"
      },
      "execution_count": null,
      "outputs": [
        {
          "output_type": "execute_result",
          "data": {
            "text/plain": [
              "dict_keys(['id', 'content', 'metadata', 'annotations', 'classifications'])"
            ]
          },
          "metadata": {},
          "execution_count": 4
        }
      ]
    },
    {
      "cell_type": "markdown",
      "source": [
        "### process the data\n",
        "- as per the spacy requirements"
      ],
      "metadata": {
        "id": "YBDZtbOyif9D"
      }
    },
    {
      "cell_type": "code",
      "source": [
        "training_data = []\n",
        "\n",
        "for example in data['examples']:\n",
        "  temp_dict = {}\n",
        "  temp_dict['text'] = example['content']\n",
        "  temp_dict['entities'] = []\n",
        "  for annotation in example['annotations']:\n",
        "    start = annotation['start']\n",
        "    end = annotation['end']\n",
        "    label = annotation['tag_name'].upper()\n",
        "    temp_dict['entities'].append((start, end, label))\n",
        "  training_data.append(temp_dict)\n",
        "\n",
        "print(training_data[0])"
      ],
      "metadata": {
        "colab": {
          "base_uri": "https://localhost:8080/"
        },
        "id": "5JLJ5bQbWsjI",
        "outputId": "f524115b-3600-42cd-e86f-8945ac685594"
      },
      "execution_count": null,
      "outputs": [
        {
          "output_type": "stream",
          "name": "stdout",
          "text": [
            "{'text': \"While bismuth compounds (Pepto-Bismol) decreased the number of bowel movements in those with travelers' diarrhea, they do not decrease the length of illness.[91] Anti-motility agents like loperamide are also effective at reducing the number of stools but not the duration of disease.[8] These agents should be used only if bloody diarrhea is not present.[92]\\n\\nDiosmectite, a natural aluminomagnesium silicate clay, is effective in alleviating symptoms of acute diarrhea in children,[93] and also has some effects in chronic functional diarrhea, radiation-induced diarrhea, and chemotherapy-induced diarrhea.[45] Another absorbent agent used for the treatment of mild diarrhea is kaopectate.\\n\\nRacecadotril an antisecretory medication may be used to treat diarrhea in children and adults.[86] It has better tolerability than loperamide, as it causes less constipation and flatulence.[94]\", 'entities': [(360, 371, 'MEDICINE'), (383, 408, 'MEDICINE'), (104, 112, 'MEDICALCONDITION'), (679, 689, 'MEDICINE'), (6, 23, 'MEDICINE'), (25, 37, 'MEDICINE'), (461, 470, 'MEDICALCONDITION'), (577, 589, 'MEDICINE'), (853, 865, 'MEDICALCONDITION'), (188, 198, 'MEDICINE'), (754, 762, 'MEDICALCONDITION'), (870, 880, 'MEDICALCONDITION'), (823, 833, 'MEDICINE'), (852, 853, 'MEDICALCONDITION'), (461, 469, 'MEDICALCONDITION'), (535, 543, 'MEDICALCONDITION'), (692, 704, 'MEDICINE'), (563, 571, 'MEDICALCONDITION')]}\n"
          ]
        }
      ]
    },
    {
      "cell_type": "code",
      "source": [
        "import spacy\n",
        "from spacy.tokens import DocBin\n",
        "from tqdm import tqdm\n",
        "from spacy.util import filter_spans\n",
        "\n",
        "# doc -> entities (span)\n",
        "nlp = spacy.blank('en') # load a new spacy model\n",
        "doc_bin = DocBin()\n",
        "\n",
        "for training_example in tqdm(training_data):\n",
        "  text = training_example['text']\n",
        "  labels = training_example['entities']\n",
        "  doc = nlp.make_doc(text) # geneate a doc from the text\n",
        "  ents = [] # generate entities for the doc\n",
        "  for start, end, label in labels:\n",
        "    span = doc.char_span(start, end, label=label, alignment_mode='contract')\n",
        "    # now need to create the span for the docs\n",
        "    # (start, end, label)\n",
        "    if span is None: # sanity check for the span\n",
        "      print('skipping entity')\n",
        "    else:\n",
        "      ents.append(span) # add span to the entities\n",
        "    filtered_ents = filter_spans(ents) # filter the identified span (sanity check)\n",
        "    doc.ents = filtered_ents\n",
        "    doc_bin.add(doc)\n",
        "\n",
        "doc_bin.to_disk('train.spacy')"
      ],
      "metadata": {
        "colab": {
          "base_uri": "https://localhost:8080/"
        },
        "id": "d96QWBCMa3Ra",
        "outputId": "da9672a9-7a12-4f42-b129-578cd83a6458"
      },
      "execution_count": null,
      "outputs": [
        {
          "output_type": "stream",
          "name": "stderr",
          "text": [
            " 74%|███████▍  | 23/31 [00:00<00:00, 101.48it/s]"
          ]
        },
        {
          "output_type": "stream",
          "name": "stdout",
          "text": [
            "skipping entity\n",
            "skipping entity\n",
            "skipping entity\n",
            "skipping entity\n",
            "skipping entity\n",
            "skipping entity\n",
            "skipping entity\n",
            "skipping entity\n",
            "skipping entity\n",
            "skipping entity\n",
            "skipping entity\n",
            "skipping entity\n",
            "skipping entity\n",
            "skipping entity\n",
            "skipping entity\n"
          ]
        },
        {
          "output_type": "stream",
          "name": "stderr",
          "text": [
            "\r100%|██████████| 31/31 [00:00<00:00, 112.51it/s]\n"
          ]
        },
        {
          "output_type": "stream",
          "name": "stdout",
          "text": [
            "skipping entity\n"
          ]
        }
      ]
    },
    {
      "cell_type": "markdown",
      "source": [
        "### config file\n",
        "- config.cfg\n",
        "- https://spacy.io/usage/training#quickstart\n",
        "- create a file base_config.cfg\n",
        "- copy the cofig and save it to the file"
      ],
      "metadata": {
        "id": "9KpYn-_Fls_9"
      }
    },
    {
      "cell_type": "code",
      "source": [
        "! python -m spacy init fill-config base_config.cfg config.cfg"
      ],
      "metadata": {
        "colab": {
          "base_uri": "https://localhost:8080/"
        },
        "id": "wydfMQIkk4gd",
        "outputId": "dfcedce7-5adc-4dc2-9016-a6a69489fafe"
      },
      "execution_count": null,
      "outputs": [
        {
          "output_type": "stream",
          "name": "stdout",
          "text": [
            "\u001b[38;5;2m✔ Auto-filled config with all values\u001b[0m\n",
            "\u001b[38;5;2m✔ Saved config\u001b[0m\n",
            "config.cfg\n",
            "You can now add your data and train your pipeline:\n",
            "python -m spacy train config.cfg --paths.train ./train.spacy --paths.dev ./dev.spacy\n"
          ]
        }
      ]
    },
    {
      "cell_type": "code",
      "source": [
        "!python -m spacy train config.cfg --output ./ --paths.train ./train.spacy --paths.dev ./train.spacy"
      ],
      "metadata": {
        "colab": {
          "base_uri": "https://localhost:8080/"
        },
        "id": "blqbGbP3n26S",
        "outputId": "c4055cad-679e-46a1-e816-82774c8c2d60"
      },
      "execution_count": null,
      "outputs": [
        {
          "output_type": "stream",
          "name": "stdout",
          "text": [
            "\u001b[38;5;4mℹ Saving to output directory: .\u001b[0m\n",
            "\u001b[38;5;4mℹ Using CPU\u001b[0m\n",
            "\u001b[1m\n",
            "=========================== Initializing pipeline ===========================\u001b[0m\n",
            "\u001b[38;5;2m✔ Initialized pipeline\u001b[0m\n",
            "\u001b[1m\n",
            "============================= Training pipeline =============================\u001b[0m\n",
            "\u001b[38;5;4mℹ Pipeline: ['tok2vec', 'ner']\u001b[0m\n",
            "\u001b[38;5;4mℹ Initial learn rate: 0.001\u001b[0m\n",
            "E    #       LOSS TOK2VEC  LOSS NER  ENTS_F  ENTS_P  ENTS_R  SCORE \n",
            "---  ------  ------------  --------  ------  ------  ------  ------\n",
            "  0       0          0.00     76.71    1.86    0.99   14.50    0.02\n",
            "  0     200        255.15   4397.39   45.29   51.04   40.70    0.45\n",
            "  1     400        126.23   2032.84   61.80   66.50   57.73    0.62\n",
            "  2     600         61.28   1960.53   71.71   68.94   74.72    0.72\n",
            "  2     800         83.53   1801.73   68.95   68.38   69.52    0.69\n",
            "  3    1000         53.86   1657.82   71.14   73.72   68.73    0.71\n",
            "  4    1200         64.99   1763.98   62.73   80.16   51.53    0.63\n",
            "  5    1400         91.99   1813.12   67.75   74.66   62.01    0.68\n",
            "  6    1600         85.56   1941.82   49.97   86.37   35.15    0.50\n",
            "  7    1800        103.68   2083.13   74.24   70.09   78.91    0.74\n",
            "  8    2000         96.54   2241.26   75.83   71.79   80.35    0.76\n",
            "  9    2200        117.00   2754.96   67.90   81.30   58.30    0.68\n",
            "\u001b[38;5;2m✔ Saved pipeline to output directory\u001b[0m\n",
            "model-last\n"
          ]
        }
      ]
    },
    {
      "cell_type": "code",
      "source": [
        "nlp_ner = spacy.load('./model-best')\n",
        "\n",
        "text = '''Diabetes mellitus refers to a group of diseases that affect how the\n",
        "body uses blood sugar (glucose). Glucose is an important source of energy for\n",
        "the cells that make up the muscles and tissues. It's also the brain's main\n",
        "source of fuel.'''\n",
        "\n",
        "doc = nlp_ner(text)\n",
        "\n",
        "spacy.displacy.render(doc, style='ent')"
      ],
      "metadata": {
        "colab": {
          "base_uri": "https://localhost:8080/",
          "height": 212
        },
        "id": "aRGcLA4RrHde",
        "outputId": "d41e48a6-288a-4b5e-94fb-8d45c8e45862"
      },
      "execution_count": null,
      "outputs": [
        {
          "output_type": "stream",
          "name": "stderr",
          "text": [
            "/usr/local/lib/python3.10/dist-packages/spacy/displacy/__init__.py:213: UserWarning: [W006] No entities to visualize found in Doc object. If this is surprising to you, make sure the Doc was processed using a model that supports named entity recognition, and check the `doc.ents` property manually if necessary.\n",
            "  warnings.warn(Warnings.W006)\n"
          ]
        },
        {
          "output_type": "display_data",
          "data": {
            "text/plain": [
              "<IPython.core.display.HTML object>"
            ],
            "text/html": [
              "<span class=\"tex2jax_ignore\"><div class=\"entities\" style=\"line-height: 2.5; direction: ltr\">Diabetes mellitus refers to a group of diseases that affect how the <br>body uses blood sugar (glucose). Glucose is an important source of energy for <br>the cells that make up the muscles and tissues. It's also the brain's main <br>source of fuel.</div></span>"
            ]
          },
          "metadata": {}
        }
      ]
    }
  ]
}