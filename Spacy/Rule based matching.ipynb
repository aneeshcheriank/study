{
 "cells": [
  {
   "cell_type": "markdown",
   "id": "781e885c",
   "metadata": {},
   "source": [
    "## Rule based matching\n",
    "- some entities are easier to match\n",
    "- fixed format\n",
    "    - time\n",
    "    - date\n",
    "    - telephone numbers\n",
    "    \n",
    "- extract using\n",
    "    - morphological features\n",
    "    - POS tags\n",
    "    - regex\n",
    "    \n",
    "<br>\n",
    "- Token-based matching\n",
    "- PhraseMatcher\n",
    "- EntityRuler\n",
    "- Combining spaCy models and matchers\n",
    "\n",
    "### Token based matching\n",
    "- regex\n",
    "- special pattern\n",
    "- re library\n",
    "- problems with token based math\n",
    "    - difficult to read\n",
    "    - difficult to debug\n",
    "    - error prone with space, punctuation, and numerical characters\n",
    "\n",
    "- <b>Spacy Matcher Class</b>\n"
   ]
  },
  {
   "cell_type": "code",
   "execution_count": 12,
   "id": "fdce2cf9",
   "metadata": {},
   "outputs": [
    {
     "name": "stdout",
     "output_type": "stream",
     "text": [
      "0 3 Good morning,\n"
     ]
    }
   ],
   "source": [
    "import spacy\n",
    "from spacy.matcher import Matcher\n",
    "\n",
    "nlp = spacy.load('en_core_web_md')\n",
    "\n",
    "doc = nlp('Good morning, I want to resverve a ticket.')\n",
    "\n",
    "# matcher object should be initialized with nlp.vocab object\n",
    "matcher = Matcher(nlp.vocab)\n",
    "# define the pattern: list of dictionary\n",
    "    # token whose lower text is good\n",
    "    # token with lower text is morning\n",
    "    # token that is punctuation\n",
    "pattern = [{\"LOWER\": \"good\"}, \n",
    "           {\"LOWER\": \"morning\"}, \n",
    "           {\"IS_PUNCT\": True}]\n",
    "\n",
    "matcher.add(\"morningGreeting\", [pattern])\n",
    "matches = matcher(doc)\n",
    "\n",
    "for match_id, start, end in matches:\n",
    "    m_span = doc[start:end]\n",
    "    print(start, end, m_span.text)\n",
    "\n"
   ]
  },
  {
   "cell_type": "markdown",
   "id": "4ed5c55e",
   "metadata": {},
   "source": [
    "- can add more patterns"
   ]
  },
  {
   "cell_type": "code",
   "execution_count": 16,
   "id": "fe869a73",
   "metadata": {},
   "outputs": [
    {
     "name": "stdout",
     "output_type": "stream",
     "text": [
      "morningGreeting, 0, 3, Good morning,\n",
      "eveningGreeting, 15, 18, good evening!\n"
     ]
    }
   ],
   "source": [
    "import spacy\n",
    "from spacy.matcher import Matcher\n",
    "\n",
    "nlp = spacy.load('en_core_web_md')\n",
    "\n",
    "txt = '''Good morning, I want to reserve a ticket. \n",
    "I will then say good evening!'''\n",
    "\n",
    "doc = nlp(txt)\n",
    "\n",
    "matcher = Matcher(nlp.vocab)\n",
    "pattern_1 = [\n",
    "    {'LOWER': 'good'}, {'LOWER': 'morning'}, {'IS_PUNCT': True}\n",
    "]\n",
    "pattern_2 = [\n",
    "    {'LOWER': 'good'}, {'LOWER': 'evening'}, {'IS_PUNCT': True}\n",
    "]\n",
    "matcher.add('morningGreeting', [pattern_1])\n",
    "matcher.add('eveningGreeting', [pattern_2])\n",
    "\n",
    "matches = matcher(doc)\n",
    "\n",
    "for match_id, start, end in matches:\n",
    "    pattern_name = nlp.vocab.strings[match_id]\n",
    "    m_span = doc[start:end]\n",
    "    print(f'{pattern_name}, {start}, {end}, {m_span.text}')"
   ]
  },
  {
   "cell_type": "code",
   "execution_count": null,
   "id": "ecfcc51e",
   "metadata": {},
   "outputs": [],
   "source": []
  }
 ],
 "metadata": {
  "kernelspec": {
   "display_name": "Python 3 (ipykernel)",
   "language": "python",
   "name": "python3"
  },
  "language_info": {
   "codemirror_mode": {
    "name": "ipython",
    "version": 3
   },
   "file_extension": ".py",
   "mimetype": "text/x-python",
   "name": "python",
   "nbconvert_exporter": "python",
   "pygments_lexer": "ipython3",
   "version": "3.10.12"
  }
 },
 "nbformat": 4,
 "nbformat_minor": 5
}
