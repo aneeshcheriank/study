{
 "cells": [
  {
   "cell_type": "code",
   "execution_count": 31,
   "id": "757c851f",
   "metadata": {},
   "outputs": [
    {
     "data": {
      "text/plain": [
       "12"
      ]
     },
     "execution_count": 31,
     "metadata": {},
     "output_type": "execute_result"
    }
   ],
   "source": [
    "# 0-1 knapsack\n",
    "\n",
    "def kanpsack(weights, values, capacity):\n",
    "    dp = [[0 for _ in range(capacity+1)]\n",
    "          for _ in range(len(weights)+1)]\n",
    "    \n",
    "    # if no capacity = no profit\n",
    "    for i in range(capacity+1):\n",
    "        dp[0][i] = 0\n",
    "    \n",
    "    # if no weights are selected = no profit\n",
    "    for i in range(len(weights)+1):\n",
    "        dp[i][0] = 0\n",
    "        \n",
    "    for w in range(1, len(weights)+1):\n",
    "        for c in range(1, capacity+1):\n",
    "            if c >= weights[w-1]:\n",
    "                dp[w][c] = max(\n",
    "                    values[w-1] + dp[w-1][c-weights[w-1]],\n",
    "                    dp[w-1][c]\n",
    "                )\n",
    "            else:\n",
    "                dp[w][c] = dp[w-1][c]\n",
    "                \n",
    "    return dp[-1][-1]\n",
    "                \n",
    "    \n",
    "    \n",
    "\n",
    "weights = [2, 3, 6, 4]\n",
    "values = [3, 4, 6, 5]\n",
    "capacity = 9\n",
    "\n",
    "kanpsack(weights, values, capacity)"
   ]
  },
  {
   "cell_type": "code",
   "execution_count": 43,
   "id": "d4650f50",
   "metadata": {},
   "outputs": [
    {
     "data": {
      "text/plain": [
       "True"
      ]
     },
     "execution_count": 43,
     "metadata": {},
     "output_type": "execute_result"
    }
   ],
   "source": [
    "# 0-1 kanpsack, a sum can be optained from a list of numbers\n",
    "\n",
    "def sumOfDigits(lst, total):\n",
    "    dp = [[0 for _ in range(total+1)]\n",
    "          for _ in range(len(lst)+1)]\n",
    "    \n",
    "    # if the sum is zero -> True\n",
    "    for i in range(len(lst)+1):\n",
    "        dp[i][0] = True\n",
    "        \n",
    "    # if the lst = 0, then only 0 can be made\n",
    "    for i in range(1, total+1):\n",
    "        dp[0][i] = False\n",
    "        \n",
    "    for d in range(1, len(lst)+1):\n",
    "        for t in range(1, total+1):\n",
    "            if t >= lst[d-1]:\n",
    "                dp[d][t] = dp[d-1][t-lst[d-1]] or dp[d-1][t]\n",
    "            else:\n",
    "                dp[d][t] = dp[d-1][t]\n",
    "                \n",
    "    return dp[-1][-1]\n",
    "\n",
    "lst = [1, 2, 3, 4, 5, 6, 7, 8]\n",
    "total = 32\n",
    "sumOfDigits(lst, total)\n",
    "                \n",
    "        \n",
    "    "
   ]
  },
  {
   "cell_type": "code",
   "execution_count": null,
   "id": "362761bc",
   "metadata": {},
   "outputs": [],
   "source": []
  }
 ],
 "metadata": {
  "kernelspec": {
   "display_name": "Python 3 (ipykernel)",
   "language": "python",
   "name": "python3"
  },
  "language_info": {
   "codemirror_mode": {
    "name": "ipython",
    "version": 3
   },
   "file_extension": ".py",
   "mimetype": "text/x-python",
   "name": "python",
   "nbconvert_exporter": "python",
   "pygments_lexer": "ipython3",
   "version": "3.10.12"
  }
 },
 "nbformat": 4,
 "nbformat_minor": 5
}
