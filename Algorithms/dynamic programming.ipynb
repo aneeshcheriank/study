{
 "cells": [
  {
   "cell_type": "markdown",
   "id": "3937ec83",
   "metadata": {},
   "source": [
    "## Dynamic programming\n",
    "- <b>0-1 kanpsack (6)</b>\n",
    "    - subset sum\n",
    "    - equal sum partition\n",
    "    - count of subset sum with a given sum\n",
    "    - minimum subset sum difference\n",
    "- <b>unbounded knapsack (5)</b>\n",
    "- <b>Fibinacci (7)</b>\n",
    "- <b>LCS (15)</b>\n",
    "- <b>LIS (10)</b>\n",
    "- <b>Kadane's Algorithm (6)</b>\n",
    "- <b>Matrix chain multiplication (7)</b>\n",
    "- <b>DP on Trees (4)</b>\n",
    "- <b>DP on Grid (14)</b>\n",
    "- <b>Others (5)</b>"
   ]
  },
  {
   "cell_type": "markdown",
   "id": "a26133ee",
   "metadata": {},
   "source": [
    "### 0-1 Knapsack"
   ]
  },
  {
   "cell_type": "code",
   "execution_count": 31,
   "id": "757c851f",
   "metadata": {},
   "outputs": [
    {
     "data": {
      "text/plain": [
       "12"
      ]
     },
     "execution_count": 31,
     "metadata": {},
     "output_type": "execute_result"
    }
   ],
   "source": [
    "# 0-1 knapsack\n",
    "\n",
    "def kanpsack(weights, values, capacity):\n",
    "    dp = [[0 for _ in range(capacity+1)]\n",
    "          for _ in range(len(weights)+1)]\n",
    "    \n",
    "    # if no capacity = no profit\n",
    "    for i in range(capacity+1):\n",
    "        dp[0][i] = 0\n",
    "    \n",
    "    # if no weights are selected = no profit\n",
    "    for i in range(len(weights)+1):\n",
    "        dp[i][0] = 0\n",
    "        \n",
    "    for w in range(1, len(weights)+1):\n",
    "        for c in range(1, capacity+1):\n",
    "            if c >= weights[w-1]:\n",
    "                dp[w][c] = max(\n",
    "                    values[w-1] + dp[w-1][c-weights[w-1]],\n",
    "                    dp[w-1][c]\n",
    "                )\n",
    "            else:\n",
    "                dp[w][c] = dp[w-1][c]\n",
    "                \n",
    "    return dp[-1][-1]    \n",
    "    \n",
    "\n",
    "weights = [2, 3, 6, 4]\n",
    "values = [3, 4, 6, 5]\n",
    "capacity = 9\n",
    "\n",
    "kanpsack(weights, values, capacity)"
   ]
  },
  {
   "cell_type": "markdown",
   "id": "0996d7ad",
   "metadata": {},
   "source": [
    "### Subset sum"
   ]
  },
  {
   "cell_type": "code",
   "execution_count": 1,
   "id": "d4650f50",
   "metadata": {},
   "outputs": [
    {
     "data": {
      "text/plain": [
       "True"
      ]
     },
     "execution_count": 1,
     "metadata": {},
     "output_type": "execute_result"
    }
   ],
   "source": [
    "# 0-1 kanpsack, subset sum problem\n",
    "# given a list of numbers a sum can be achieved from the list of numbers\n",
    "\n",
    "def subset_sum(lst, total):\n",
    "    dp = [[0 for _ in range(total+1)]\n",
    "          for _ in range(len(lst)+1)]\n",
    "    \n",
    "    # if the sum is zero -> True\n",
    "    for i in range(len(lst)+1):\n",
    "        dp[i][0] = True\n",
    "        \n",
    "    # if the lst = 0, then only 0 can be made\n",
    "    for i in range(1, total+1):\n",
    "        dp[0][i] = False\n",
    "        \n",
    "    for d in range(1, len(lst)+1):\n",
    "        for t in range(1, total+1):\n",
    "            if t >= lst[d-1]:\n",
    "                dp[d][t] = dp[d-1][t-lst[d-1]] or dp[d-1][t]\n",
    "            else:\n",
    "                dp[d][t] = dp[d-1][t]\n",
    "                \n",
    "    return dp[-1][-1]\n",
    "\n",
    "\n",
    "lst = [1, 2, 3, 4, 5, 6, 7, 8]\n",
    "total = 32\n",
    "\n",
    "subset_sum(lst, total)"
   ]
  },
  {
   "cell_type": "markdown",
   "id": "03c79d73",
   "metadata": {},
   "source": [
    "### Equal sum partition problem\n",
    "- divide the subset into 2 partition with equal sum (possible or not)\n",
    "- o/p: True/False\n",
    "\n",
    "- Solution\n",
    "    - array sum is even, ie 2s\n",
    "    - there is a sum of s in the array (subset sum)\n",
    "    - if both the cases are true -> then equal sum partition"
   ]
  },
  {
   "cell_type": "code",
   "execution_count": 16,
   "id": "e0c636d8",
   "metadata": {},
   "outputs": [
    {
     "data": {
      "text/plain": [
       "True"
      ]
     },
     "execution_count": 16,
     "metadata": {},
     "output_type": "execute_result"
    }
   ],
   "source": [
    "def subset_sum(lst, total):\n",
    "    n = len(lst)\n",
    "    dp = [[0 for _ in range(total+1)]\n",
    "          for _ in range(n+1)]\n",
    "    \n",
    "    # True, when the sum is 0\n",
    "    for i in range(n+1):\n",
    "        dp[i][0] = True\n",
    "    \n",
    "    # False, when len(lst) = 0, where sum != 0\n",
    "    for i in range(1, total+1):\n",
    "        dp[0][i] = False\n",
    "        \n",
    "    for i in range(1, n+1):\n",
    "        for t in range(1, total+1):\n",
    "            if t >= lst[i-1]:\n",
    "                dp[i][t] = dp[i-1][t] or dp[i-1][t-lst[i-1]]\n",
    "            else:\n",
    "                dp[i][t] = dp[i-1][t]\n",
    "    \n",
    "    return dp[-1][-1]\n",
    "            \n",
    "def equal_sum_partion(lst):\n",
    "    s = sum(lst)\n",
    "    if s%2 == 0:\n",
    "        if subset_sum(lst, s//2):\n",
    "            return True\n",
    "    return False\n",
    "\n",
    "lst = [1, 5, 11, 5]\n",
    "equal_sum_partion(lst)\n",
    "        "
   ]
  },
  {
   "cell_type": "markdown",
   "id": "622c8f85",
   "metadata": {},
   "source": [
    "### Count of subset sum with a given sum\n",
    "- input\n",
    "    - list \n",
    "    - sum\n",
    "- output\n",
    "    - count of subset with the sum\n",
    "- matrix\n",
    "    - dp[n+1][sum+1]\n",
    "- initalization\n",
    "    - when sum = 0\n",
    "        - 1 (null subset)\n",
    "    - when the list = 0 and sum != 0\n",
    "        - 0\n",
    "- main code\n",
    "    - if the sum > element\n",
    "        - include / not include (old case)\n",
    "        - we need to add the item (dp[n][s-1] + dp[n][s-lst[n-1]]\n",
    "    - else\n",
    "        - dp[n][s-1]"
   ]
  },
  {
   "cell_type": "code",
   "execution_count": 14,
   "id": "56fb00e2",
   "metadata": {},
   "outputs": [
    {
     "data": {
      "text/plain": [
       "3"
      ]
     },
     "execution_count": 14,
     "metadata": {},
     "output_type": "execute_result"
    }
   ],
   "source": [
    "def count_of_sum(lst, s):\n",
    "    n = len(lst)\n",
    "    \n",
    "    dp = [[0 for _ in range(s+1)]\n",
    "          for _ in range(n+1)]\n",
    "    \n",
    "    # if the sum = 0: then 1 (null set)\n",
    "    for i in range(n+1):\n",
    "        dp[i][0] = 1\n",
    "        \n",
    "    # if lst is empty then 0 (not possible)\n",
    "    for i in range(1, s+1):\n",
    "        dp[0][i] = 0\n",
    "        \n",
    "    for i in range(1, n+1):\n",
    "        for t in range(1, s+1):\n",
    "            if t >= lst[i-1]:\n",
    "                dp[i][t] = dp[i-1][t] + dp[i-1][t-lst[i-1]]\n",
    "            else:\n",
    "                dp[i][t] = dp[i-1][t]\n",
    "                \n",
    "    return dp[-1][-1]\n",
    "\n",
    "lst = [2, 3, 5, 8, 10]\n",
    "s = 10\n",
    "\n",
    "count_of_sum(lst, s)"
   ]
  },
  {
   "cell_type": "markdown",
   "id": "d4c99329",
   "metadata": {},
   "source": [
    "### Minimum subset sum difference\n",
    "- url: https://www.youtube.com/watch?v=-GtpxG6l_Mc&list=PL_z_8CaSLPWekqhdCPmFohncHwz8TY2Go&index=10\n",
    "- input\n",
    "    - list\n",
    "- output\n",
    "    - int\n",
    "    - what is the minimum possible diff between 2 partion sums\n",
    "    - absolute difference\n",
    "- example\n",
    "    - lst = [1, 6, 11, 5], output = 1\n",
    "    \n",
    "- solution\n",
    "    - can we find some range of diff\n",
    "        - min diff = 0\n",
    "        - maximum difference = sum(lst)"
   ]
  },
  {
   "cell_type": "code",
   "execution_count": 36,
   "id": "e6ad1794",
   "metadata": {},
   "outputs": [
    {
     "name": "stdout",
     "output_type": "stream",
     "text": [
      "poss_value: 0, min_diff: 23\n",
      "poss_value: 1, min_diff: 21\n",
      "poss_value: 5, min_diff: 13\n",
      "poss_value: 6, min_diff: 11\n",
      "poss_value: 7, min_diff: 9\n",
      "poss_value: 11, min_diff: 1\n"
     ]
    },
    {
     "data": {
      "text/plain": [
       "1"
      ]
     },
     "execution_count": 36,
     "metadata": {},
     "output_type": "execute_result"
    }
   ],
   "source": [
    "def subset_sum(lst, total):\n",
    "    dp = [[0 for _ in range(total+1)]\n",
    "          for _ in range(len(lst)+1)]\n",
    "    \n",
    "    # if the sum is zero -> True\n",
    "    for i in range(len(lst)+1):\n",
    "        dp[i][0] = True\n",
    "        \n",
    "    # if the lst = 0, then only 0 can be made\n",
    "    for i in range(1, total+1):\n",
    "        dp[0][i] = False\n",
    "        \n",
    "    for d in range(1, len(lst)+1):\n",
    "        for t in range(1, total+1):\n",
    "            if t >= lst[d-1]:\n",
    "                dp[d][t] = dp[d-1][t-lst[d-1]] or dp[d-1][t]\n",
    "            else:\n",
    "                dp[d][t] = dp[d-1][t]\n",
    "                \n",
    "    return dp[-1]\n",
    "\n",
    "def min_subset_sum_difference(lst):\n",
    "    n = len(lst)\n",
    "    rge = sum(lst)   \n",
    "    poss_values = subset_sum(lst, rge)\n",
    "    \n",
    "    mn = 9999\n",
    "    for i in range(rge//2+1):\n",
    "        if poss_values[i]:\n",
    "            print(f'poss_value: {i}, min_diff: {rge-2*i}')\n",
    "            mn = min(mn, rge-2*i)\n",
    "            \n",
    "    return mn\n",
    "\n",
    "lst = [1, 5, 6, 11]\n",
    "min_subset_sum_difference(lst)"
   ]
  },
  {
   "cell_type": "code",
   "execution_count": null,
   "id": "5de68be3",
   "metadata": {},
   "outputs": [],
   "source": []
  }
 ],
 "metadata": {
  "kernelspec": {
   "display_name": "Python 3 (ipykernel)",
   "language": "python",
   "name": "python3"
  },
  "language_info": {
   "codemirror_mode": {
    "name": "ipython",
    "version": 3
   },
   "file_extension": ".py",
   "mimetype": "text/x-python",
   "name": "python",
   "nbconvert_exporter": "python",
   "pygments_lexer": "ipython3",
   "version": "3.10.12"
  }
 },
 "nbformat": 4,
 "nbformat_minor": 5
}
