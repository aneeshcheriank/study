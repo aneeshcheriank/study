{
 "cells": [
  {
   "cell_type": "markdown",
   "id": "01c7e3bf",
   "metadata": {},
   "source": [
    "## Dynamic programming\n",
    "- <b>0-1 kanpsack (6)</b>\n",
    "    1. subset sum\n",
    "    2. equal sum partition\n",
    "    3. count of subset sum with a given sum\n",
    "    4. minimum subset sum difference\n",
    "    5. count the number of subset with a given difference\n",
    "    6. Target sum\n",
    "    <br>\n",
    "    <br>\n",
    "- <b>unbounded knapsack (5)</b>\n",
    "    1. rod cutting\n",
    "    2. coin change -> minimum number of coins\n",
    "    3. coin chage 2 -> maximum number of coins\n",
    "    4. maximum ribben cut\n",
    "    <br>\n",
    "    <br>\n",
    "- <b>Fibinacci (7)</b>\n",
    "- <b>LCS (15)</b>\n",
    "- <b>LIS (10)</b>\n",
    "- <b>Kadane's Algorithm (6)</b>\n",
    "- <b>Matrix chain multiplication (7)</b>\n",
    "- <b>DP on Trees (4)</b>\n",
    "- <b>DP on Grid (14)</b>\n",
    "- <b>Others (5)</b>"
   ]
  },
  {
   "cell_type": "markdown",
   "id": "dc8a754b",
   "metadata": {},
   "source": [
    "### 0-1 Knapsack"
   ]
  },
  {
   "cell_type": "code",
   "execution_count": 31,
   "id": "757c851f",
   "metadata": {},
   "outputs": [
    {
     "data": {
      "text/plain": [
       "12"
      ]
     },
     "execution_count": 31,
     "metadata": {},
     "output_type": "execute_result"
    }
   ],
   "source": [
    "# 0-1 knapsack\n",
    "\n",
    "def kanpsack(weights, values, capacity):\n",
    "    dp = [[0 for _ in range(capacity+1)]\n",
    "          for _ in range(len(weights)+1)]\n",
    "    \n",
    "    # if no capacity = no profit\n",
    "    for i in range(capacity+1):\n",
    "        dp[0][i] = 0\n",
    "    \n",
    "    # if no weights are selected = no profit\n",
    "    for i in range(len(weights)+1):\n",
    "        dp[i][0] = 0\n",
    "        \n",
    "    for w in range(1, len(weights)+1):\n",
    "        for c in range(1, capacity+1):\n",
    "            if c >= weights[w-1]:\n",
    "                dp[w][c] = max(\n",
    "                    values[w-1] + dp[w-1][c-weights[w-1]],\n",
    "                    dp[w-1][c]\n",
    "                )\n",
    "            else:\n",
    "                dp[w][c] = dp[w-1][c]\n",
    "                \n",
    "    return dp[-1][-1]    \n",
    "    \n",
    "\n",
    "weights = [2, 3, 6, 4]\n",
    "values = [3, 4, 6, 5]\n",
    "capacity = 9\n",
    "\n",
    "kanpsack(weights, values, capacity)"
   ]
  },
  {
   "cell_type": "markdown",
   "id": "76c80cbc",
   "metadata": {},
   "source": [
    "### Subset sum"
   ]
  },
  {
   "cell_type": "code",
   "execution_count": 1,
   "id": "d4650f50",
   "metadata": {},
   "outputs": [
    {
     "data": {
      "text/plain": [
       "True"
      ]
     },
     "execution_count": 1,
     "metadata": {},
     "output_type": "execute_result"
    }
   ],
   "source": [
    "# 0-1 kanpsack, subset sum problem\n",
    "# given a list of numbers a sum can be achieved from the list of numbers\n",
    "\n",
    "def subset_sum(lst, total):\n",
    "    dp = [[0 for _ in range(total+1)]\n",
    "          for _ in range(len(lst)+1)]\n",
    "    \n",
    "    # if the sum is zero -> True\n",
    "    for i in range(len(lst)+1):\n",
    "        dp[i][0] = True\n",
    "        \n",
    "    # if the lst = 0, then only 0 can be made\n",
    "    for i in range(1, total+1):\n",
    "        dp[0][i] = False\n",
    "        \n",
    "    for d in range(1, len(lst)+1):\n",
    "        for t in range(1, total+1):\n",
    "            if t >= lst[d-1]:\n",
    "                dp[d][t] = dp[d-1][t-lst[d-1]] or dp[d-1][t]\n",
    "            else:\n",
    "                dp[d][t] = dp[d-1][t]\n",
    "                \n",
    "    return dp[-1][-1]\n",
    "\n",
    "\n",
    "lst = [1, 2, 3, 4, 5, 6, 7, 8]\n",
    "total = 32\n",
    "\n",
    "subset_sum(lst, total)"
   ]
  },
  {
   "cell_type": "markdown",
   "id": "dd43f457",
   "metadata": {},
   "source": [
    "### Equal sum partition problem\n",
    "- divide the subset into 2 partition with equal sum (possible or not)\n",
    "- o/p: True/False\n",
    "\n",
    "- Solution\n",
    "    - array sum is even, ie 2s\n",
    "    - there is a sum of s in the array (subset sum)\n",
    "    - if both the cases are true -> then equal sum partition"
   ]
  },
  {
   "cell_type": "code",
   "execution_count": 16,
   "id": "127062b7",
   "metadata": {},
   "outputs": [
    {
     "data": {
      "text/plain": [
       "True"
      ]
     },
     "execution_count": 16,
     "metadata": {},
     "output_type": "execute_result"
    }
   ],
   "source": [
    "def subset_sum(lst, total):\n",
    "    n = len(lst)\n",
    "    dp = [[0 for _ in range(total+1)]\n",
    "          for _ in range(n+1)]\n",
    "    \n",
    "    # True, when the sum is 0\n",
    "    for i in range(n+1):\n",
    "        dp[i][0] = True\n",
    "    \n",
    "    # False, when len(lst) = 0, where sum != 0\n",
    "    for i in range(1, total+1):\n",
    "        dp[0][i] = False\n",
    "        \n",
    "    for i in range(1, n+1):\n",
    "        for t in range(1, total+1):\n",
    "            if t >= lst[i-1]:\n",
    "                dp[i][t] = dp[i-1][t] or dp[i-1][t-lst[i-1]]\n",
    "            else:\n",
    "                dp[i][t] = dp[i-1][t]\n",
    "    \n",
    "    return dp[-1][-1]\n",
    "            \n",
    "def equal_sum_partion(lst):\n",
    "    s = sum(lst)\n",
    "    if s%2 == 0:\n",
    "        if subset_sum(lst, s//2):\n",
    "            return True\n",
    "    return False\n",
    "\n",
    "lst = [1, 5, 11, 5]\n",
    "equal_sum_partion(lst)\n",
    "        "
   ]
  },
  {
   "cell_type": "markdown",
   "id": "cd7f39dc",
   "metadata": {},
   "source": [
    "### Count of subset sum with a given sum\n",
    "- input\n",
    "    - list \n",
    "    - sum\n",
    "- output\n",
    "    - count of subset with the sum\n",
    "- matrix\n",
    "    - dp[n+1][sum+1]\n",
    "- initalization\n",
    "    - when sum = 0\n",
    "        - 1 (null subset)\n",
    "    - when the list = 0 and sum != 0\n",
    "        - 0\n",
    "- main code\n",
    "    - if the sum > element\n",
    "        - include / not include (old case)\n",
    "        - we need to add the item (dp[n][s-1] + dp[n][s-lst[n-1]]\n",
    "    - else\n",
    "        - dp[n][s-1]"
   ]
  },
  {
   "cell_type": "code",
   "execution_count": 14,
   "id": "36397fa8",
   "metadata": {},
   "outputs": [
    {
     "data": {
      "text/plain": [
       "3"
      ]
     },
     "execution_count": 14,
     "metadata": {},
     "output_type": "execute_result"
    }
   ],
   "source": [
    "def count_of_sum(lst, s):\n",
    "    n = len(lst)\n",
    "    \n",
    "    dp = [[0 for _ in range(s+1)]\n",
    "          for _ in range(n+1)]\n",
    "    \n",
    "    # if the sum = 0: then 1 (null set)\n",
    "    for i in range(n+1):\n",
    "        dp[i][0] = 1\n",
    "        \n",
    "    # if lst is empty then 0 (not possible)\n",
    "    for i in range(1, s+1):\n",
    "        dp[0][i] = 0\n",
    "        \n",
    "    for i in range(1, n+1):\n",
    "        for t in range(1, s+1):\n",
    "            if t >= lst[i-1]:\n",
    "                dp[i][t] = dp[i-1][t] + dp[i-1][t-lst[i-1]]\n",
    "            else:\n",
    "                dp[i][t] = dp[i-1][t]\n",
    "                \n",
    "    return dp[-1][-1]\n",
    "\n",
    "lst = [2, 3, 5, 8, 10]\n",
    "s = 10\n",
    "\n",
    "count_of_sum(lst, s)"
   ]
  },
  {
   "cell_type": "markdown",
   "id": "f876c69d",
   "metadata": {},
   "source": [
    "### Minimum subset sum difference\n",
    "- url: https://www.youtube.com/watch?v=-GtpxG6l_Mc&list=PL_z_8CaSLPWekqhdCPmFohncHwz8TY2Go&index=10\n",
    "- input\n",
    "    - list\n",
    "- output\n",
    "    - int\n",
    "    - what is the minimum possible diff between 2 partion sums\n",
    "    - absolute difference\n",
    "- example\n",
    "    - lst = [1, 6, 11, 5], output = 1\n",
    "    \n",
    "- solution\n",
    "    - can we find some range of diff\n",
    "        - min diff = 0\n",
    "        - maximum difference = sum(lst)\n",
    "    - out of these diff some some exists, that can be found from the subset sum matrix last row\n",
    "    - all the sums are there in the last row, consider the sums range from [0 to 10]\n",
    "        - let sums are s1 and s2\n",
    "        - if s1 = 1 then s2 will be 9 we can write s2-s1 => range - 2*s1 (since s2 = range -s1)\n",
    "        - s1 is from 0 to half of the range\n",
    "    - so the solution is min(range - 2*s1) where s1 ranges from 0 to range/2"
   ]
  },
  {
   "cell_type": "code",
   "execution_count": 1,
   "id": "1a415a32",
   "metadata": {},
   "outputs": [
    {
     "data": {
      "text/plain": [
       "1"
      ]
     },
     "execution_count": 1,
     "metadata": {},
     "output_type": "execute_result"
    }
   ],
   "source": [
    "def subset_sum(lst, total):\n",
    "    dp = [[0 for _ in range(total+1)]\n",
    "          for _ in range(len(lst)+1)]\n",
    "    \n",
    "    # if the sum is zero -> True\n",
    "    for i in range(len(lst)+1):\n",
    "        dp[i][0] = True\n",
    "        \n",
    "    # if the lst = 0, then only 0 can be made\n",
    "    for i in range(1, total+1):\n",
    "        dp[0][i] = False\n",
    "        \n",
    "    for d in range(1, len(lst)+1):\n",
    "        for t in range(1, total+1):\n",
    "            if t >= lst[d-1]:\n",
    "                dp[d][t] = dp[d-1][t-lst[d-1]] or dp[d-1][t]\n",
    "            else:\n",
    "                dp[d][t] = dp[d-1][t]\n",
    "                \n",
    "    return dp[-1]\n",
    "\n",
    "def min_subset_sum_difference(lst):\n",
    "    n = len(lst)\n",
    "    rge = sum(lst)   \n",
    "    poss_values = subset_sum(lst, rge)\n",
    "    \n",
    "    mn = 9999\n",
    "    for i in range(rge//2+1):\n",
    "        if poss_values[i]:\n",
    "#             print(f'poss_value: {i}, min_diff: {rge-2*i}')\n",
    "            mn = min(mn, rge-2*i)\n",
    "            \n",
    "    return mn\n",
    "\n",
    "lst = [1, 5, 6, 11]\n",
    "min_subset_sum_difference(lst)"
   ]
  },
  {
   "cell_type": "markdown",
   "id": "7eabdbff",
   "metadata": {},
   "source": [
    "### Count the number of subset with a given difference\n",
    "- input\n",
    "    - list eg: [1, 3, 5, 7]\n",
    "    - difference eg: 2\n",
    "- ouput\n",
    "    - count: 4\n",
    "    \n",
    "- solution\n",
    "    - divide into subsets s1 and s2\n",
    "        - s1 - s2 = diff\n",
    "        - s1 + s2 = sum(lst)\n",
    "        - 2s1 = diff + sum(lst)\n",
    "        - <b>=> s1 = <sup>(diff + sum(lst))</sup>/<sub>2</sub></b>\n",
    "        \n",
    "        - so from the given example => s1 = (2+16)/2 = 9\n",
    "            - diff = 2\n",
    "            - sum(lst) = 16\n",
    "        - so subset 1 should be 9\n",
    "        - => now we need to know the subset with sum = 9"
   ]
  },
  {
   "cell_type": "code",
   "execution_count": 4,
   "id": "6b100c94",
   "metadata": {},
   "outputs": [
    {
     "data": {
      "text/plain": [
       "1"
      ]
     },
     "execution_count": 4,
     "metadata": {},
     "output_type": "execute_result"
    }
   ],
   "source": [
    "def count_of_sum(lst, s):\n",
    "    n = len(lst)\n",
    "    \n",
    "    dp = [[0 for _ in range(s+1)]\n",
    "          for _ in range(n+1)]\n",
    "    \n",
    "    # if the sum = 0: then 1 (null set)\n",
    "    for i in range(n+1):\n",
    "        dp[i][0] = 1\n",
    "        \n",
    "    # if lst is empty then 0 (not possible)\n",
    "    for i in range(1, s+1):\n",
    "        dp[0][i] = 0\n",
    "        \n",
    "    for i in range(1, n+1):\n",
    "        for t in range(1, s+1):\n",
    "            if t >= lst[i-1]:\n",
    "                dp[i][t] = dp[i-1][t] + dp[i-1][t-lst[i-1]]\n",
    "            else:\n",
    "                dp[i][t] = dp[i-1][t]\n",
    "                \n",
    "    return dp[-1][-1]\n",
    "\n",
    "def count_the_number_of_subset_with_given_diff(lst, diff):\n",
    "    tot = sum(lst)\n",
    "    \n",
    "    if (tot + diff)%2 == 0:\n",
    "        subset_sum = (tot + diff)//2\n",
    "        \n",
    "        return count_of_sum(lst, subset_sum)\n",
    "    \n",
    "    else:\n",
    "        return 0\n",
    "\n",
    "lst = [1, 3, 5, 7]\n",
    "diff = 2\n",
    "count_the_number_of_subset_with_given_diff(lst, diff)"
   ]
  },
  {
   "cell_type": "markdown",
   "id": "a2e99165",
   "metadata": {},
   "source": [
    "### Target sum\n",
    "- input \n",
    "    - lst [1, 1, 2, 3], sum = 1\n",
    "- output\n",
    "    - output 1\n",
    "    \n",
    "- we need to add sign before every element so that the sum of the array should be equal to the given sum\n",
    "\n",
    "- solution\n",
    "    - modifed target some problem\n",
    "    - need to divide a subset to +ve\n",
    "    - another subset to -ve\n",
    "    - equations\n",
    "        - s1 - s2 = sum\n",
    "        - sum(array) = s1 + s2\n",
    "        - => 2*s1 = sum+sum(array)\n",
    "        - s1 = (sum+sum(array))/2\n",
    "    - count_subset_sum(lst, s1)"
   ]
  },
  {
   "cell_type": "code",
   "execution_count": 7,
   "id": "bceae1f1",
   "metadata": {},
   "outputs": [
    {
     "data": {
      "text/plain": [
       "1"
      ]
     },
     "execution_count": 7,
     "metadata": {},
     "output_type": "execute_result"
    }
   ],
   "source": [
    "def count_of_sum(lst, s):\n",
    "    n = len(lst)\n",
    "    \n",
    "    dp = [[0 for _ in range(s+1)]\n",
    "          for _ in range(n+1)]\n",
    "    \n",
    "    # if the sum = 0: then 1 (null set)\n",
    "    for i in range(n+1):\n",
    "        dp[i][0] = 1\n",
    "        \n",
    "    # if lst is empty then 0 (not possible)\n",
    "    for i in range(1, s+1):\n",
    "        dp[0][i] = 0\n",
    "        \n",
    "    for i in range(1, n+1):\n",
    "        for t in range(1, s+1):\n",
    "            if t >= lst[i-1]:\n",
    "                dp[i][t] = dp[i-1][t] + dp[i-1][t-lst[i-1]]\n",
    "            else:\n",
    "                dp[i][t] = dp[i-1][t]\n",
    "                \n",
    "    return dp[-1][-1]\n",
    "\n",
    "def traget_sum(lst, total):\n",
    "    s = (sum(lst) - total)\n",
    "    \n",
    "    if s%2 == 0:\n",
    "        return count_of_sum(lst, s//2)\n",
    "    else:\n",
    "        return 0\n",
    "    \n",
    "lst = [1, 3, 5, 7]\n",
    "total = 2\n",
    "traget_sum(lst, total)"
   ]
  },
  {
   "cell_type": "markdown",
   "id": "33b00ab4",
   "metadata": {},
   "source": [
    "## Unbounded Knapsack\n",
    "\n",
    "- we can take items multiple times"
   ]
  },
  {
   "cell_type": "code",
   "execution_count": 11,
   "id": "ca47d78a",
   "metadata": {},
   "outputs": [
    {
     "data": {
      "text/plain": [
       "[0, 0, 3, 4, 6, 7, 9, 10, 12, 13]"
      ]
     },
     "execution_count": 11,
     "metadata": {},
     "output_type": "execute_result"
    }
   ],
   "source": [
    "def unbounded_kanpsack(weights, values, capacity):\n",
    "    dp = [0 for _ in range(capacity+1)]\n",
    "    \n",
    "    # capacity = 0, value = 0\n",
    "    dp[0] = 0\n",
    "    \n",
    "    for c in range(1, capacity+1):\n",
    "        for i, w in enumerate(weights):\n",
    "            if c >= w:\n",
    "                dp[c] = max(values[i] + dp[c-w], dp[c])\n",
    "    return dp\n",
    "\n",
    "weights = [2, 3, 6, 4]\n",
    "values = [3, 4, 6, 5]\n",
    "capacity = 9\n",
    "\n",
    "unbounded_kanpsack(weights, values, capacity)"
   ]
  },
  {
   "cell_type": "code",
   "execution_count": 17,
   "id": "a0c87751",
   "metadata": {},
   "outputs": [
    {
     "data": {
      "text/plain": [
       "[[0, 0, 0, 0, 0, 0, 0, 0, 0, 0],\n",
       " [0, 0, 3, 3, 6, 6, 9, 9, 12, 12],\n",
       " [0, 0, 3, 4, 6, 7, 9, 10, 12, 13],\n",
       " [0, 0, 3, 4, 6, 7, 9, 10, 12, 13],\n",
       " [0, 0, 3, 4, 6, 7, 9, 10, 12, 13]]"
      ]
     },
     "execution_count": 17,
     "metadata": {},
     "output_type": "execute_result"
    }
   ],
   "source": [
    "## Another way\n",
    "def unbounded_kanpsack(weights, values, capacity):\n",
    "    n = len(values)\n",
    "    dp = [[0 for _ in range(capacity+1)]\n",
    "          for _ in range(n+1)]\n",
    "    \n",
    "    # capacity = 0, value = 0\n",
    "    for i in range(n+1):\n",
    "        dp[i][0] = 0\n",
    "        \n",
    "    # list is empty, value = 0\n",
    "    for i in range(capacity+1):\n",
    "        dp[0][i] = 0\n",
    "        \n",
    "    for i in range(1, n+1):\n",
    "        for c in range(1, capacity+1):\n",
    "            if c >= weights[i-1]:\n",
    "                dp[i][c] = max(\n",
    "                    values[i-1] + dp[i][c-weights[i-1]], # if we select an item we can select it more than one\n",
    "                    dp[i-1][c] # if we dont select one we will not select it again\n",
    "                )\n",
    "            else:\n",
    "                dp[i][c] = dp[i-1][c]\n",
    "                \n",
    "    return dp\n",
    "\n",
    "weights = [2, 3, 6, 4]\n",
    "values = [3, 4, 6, 5]\n",
    "capacity = 9\n",
    "\n",
    "unbounded_kanpsack(weights, values, capacity)"
   ]
  },
  {
   "cell_type": "markdown",
   "id": "95a662f1",
   "metadata": {},
   "source": [
    "### Rod cutting problem\n",
    "- input\n",
    "    - length array\n",
    "    - price array\n",
    "- output\n",
    "    - length of the rod\n",
    "    \n",
    "- given a rod of lenght 8, you have to cut it the price of different lengths are given find the maximum profit one can make"
   ]
  },
  {
   "cell_type": "code",
   "execution_count": 25,
   "id": "2e0b39fe",
   "metadata": {},
   "outputs": [
    {
     "data": {
      "text/plain": [
       "[0, 1, 5, 8, 10, 13, 17, 18, 22]"
      ]
     },
     "execution_count": 25,
     "metadata": {},
     "output_type": "execute_result"
    }
   ],
   "source": [
    "def rod_cutting(size, price, length):\n",
    "    dp = [0 for _ in range(length+1)]\n",
    "    \n",
    "    dp[0] = 0\n",
    "    \n",
    "    for l in range(1, length+1):\n",
    "        for i in range(1, len(size)+1):\n",
    "            if l >= size[i-1]:\n",
    "                dp[l] = max(price[i-1] + dp[l-size[i-1]], dp[l])\n",
    "    return dp\n",
    "\n",
    "size = [1, 2, 3, 4, 5, 6, 7, 8]\n",
    "price = [1, 5, 8, 9, 10, 17, 17, 20]\n",
    "l = 8\n",
    "\n",
    "rod_cutting(size, price, l)"
   ]
  },
  {
   "cell_type": "code",
   "execution_count": null,
   "id": "4e8f8bd0",
   "metadata": {},
   "outputs": [],
   "source": []
  }
 ],
 "metadata": {
  "kernelspec": {
   "display_name": "Python 3 (ipykernel)",
   "language": "python",
   "name": "python3"
  },
  "language_info": {
   "codemirror_mode": {
    "name": "ipython",
    "version": 3
   },
   "file_extension": ".py",
   "mimetype": "text/x-python",
   "name": "python",
   "nbconvert_exporter": "python",
   "pygments_lexer": "ipython3",
   "version": "3.10.12"
  }
 },
 "nbformat": 4,
 "nbformat_minor": 5
}
