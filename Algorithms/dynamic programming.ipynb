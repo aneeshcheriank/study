{
 "cells": [
  {
   "cell_type": "markdown",
   "id": "01c7e3bf",
   "metadata": {},
   "source": [
    "## Dynamic programming\n",
    "- <b>0-1 kanpsack (6)</b>\n",
    "    1. subset sum\n",
    "    2. equal sum partition\n",
    "    3. count of subset sum with a given sum\n",
    "    4. minimum subset sum difference\n",
    "    5. count the number of subset with a given difference\n",
    "    6. Target sum\n",
    "- <b>unbounded knapsack (5)</b>\n",
    "    1. rod cutting\n",
    "    2. coin change -> minimum number of coins\n",
    "    3. coin chage 2 -> maximum number of ways\n",
    "    4. maximum ribben cut\n",
    "- <b>Fibinacci (7)</b>\n",
    "- <b>LCS (15)</b>\n",
    "    1. Largest common substring\n",
    "    2. Print LCS\n",
    "    3. shortest common super sequence\n",
    "    4. Print SCS\n",
    "    5. minimum number of insertion and deletion a -> b\n",
    "    6. Largest repeating subsequence\n",
    "    7. Length of largest subsequene of 'a' which is a substring in 'b'\n",
    "    8. Subsequnce pattern matching\n",
    "    9. cout How many times a string 'a' appears in a string 'b'\n",
    "    10. Largest palidromic subsequence\n",
    "    11. Largest palindromic substring\n",
    "    12. count of palindromic substring\n",
    "    13. min no of deltions in a string to make it\n",
    "    14. min no of inseration in a string to make it \n",
    "    \n",
    "- <b>LIS (10)</b>\n",
    "- <b>Kadane's Algorithm (6)</b>\n",
    "- <b>Matrix chain multiplication (7)</b>\n",
    "    - MCM\n",
    "    - Printing MCM\n",
    "    - Evaluate Expr to True/False Parent expression\n",
    "    - min/max value of an expr\n",
    "    - Paliendrome partitioning\n",
    "    - Scramble string\n",
    "    - Egg dropping problem\n",
    "- <b>DP on Trees (4)</b>\n",
    "- <b>DP on Grid (14)</b>\n",
    "- <b>Others (5)</b>"
   ]
  },
  {
   "cell_type": "markdown",
   "id": "dc8a754b",
   "metadata": {},
   "source": [
    "### 0-1 Knapsack"
   ]
  },
  {
   "cell_type": "code",
   "execution_count": 31,
   "id": "757c851f",
   "metadata": {},
   "outputs": [
    {
     "data": {
      "text/plain": [
       "12"
      ]
     },
     "execution_count": 31,
     "metadata": {},
     "output_type": "execute_result"
    }
   ],
   "source": [
    "# 0-1 knapsack\n",
    "\n",
    "def kanpsack(weights, values, capacity):\n",
    "    dp = [[0 for _ in range(capacity+1)]\n",
    "          for _ in range(len(weights)+1)]\n",
    "    \n",
    "    # if no capacity = no profit\n",
    "    for i in range(capacity+1):\n",
    "        dp[0][i] = 0\n",
    "    \n",
    "    # if no weights are selected = no profit\n",
    "    for i in range(len(weights)+1):\n",
    "        dp[i][0] = 0\n",
    "        \n",
    "    for w in range(1, len(weights)+1):\n",
    "        for c in range(1, capacity+1):\n",
    "            if c >= weights[w-1]:\n",
    "                dp[w][c] = max(\n",
    "                    values[w-1] + dp[w-1][c-weights[w-1]],\n",
    "                    dp[w-1][c]\n",
    "                )\n",
    "            else:\n",
    "                dp[w][c] = dp[w-1][c]\n",
    "                \n",
    "    return dp[-1][-1]    \n",
    "    \n",
    "\n",
    "weights = [2, 3, 6, 4]\n",
    "values = [3, 4, 6, 5]\n",
    "capacity = 9\n",
    "\n",
    "kanpsack(weights, values, capacity)"
   ]
  },
  {
   "cell_type": "markdown",
   "id": "76c80cbc",
   "metadata": {},
   "source": [
    "### Subset sum"
   ]
  },
  {
   "cell_type": "code",
   "execution_count": 1,
   "id": "d4650f50",
   "metadata": {},
   "outputs": [
    {
     "data": {
      "text/plain": [
       "True"
      ]
     },
     "execution_count": 1,
     "metadata": {},
     "output_type": "execute_result"
    }
   ],
   "source": [
    "# 0-1 kanpsack, subset sum problem\n",
    "# given a list of numbers a sum can be achieved from the list of numbers\n",
    "\n",
    "def subset_sum(lst, total):\n",
    "    dp = [[0 for _ in range(total+1)]\n",
    "          for _ in range(len(lst)+1)]\n",
    "    \n",
    "    # if the sum is zero -> True\n",
    "    for i in range(len(lst)+1):\n",
    "        dp[i][0] = True\n",
    "        \n",
    "    # if the lst = 0, then only 0 can be made\n",
    "    for i in range(1, total+1):\n",
    "        dp[0][i] = False\n",
    "        \n",
    "    for d in range(1, len(lst)+1):\n",
    "        for t in range(1, total+1):\n",
    "            if t >= lst[d-1]:\n",
    "                dp[d][t] = dp[d-1][t-lst[d-1]] or dp[d-1][t]\n",
    "            else:\n",
    "                dp[d][t] = dp[d-1][t]\n",
    "                \n",
    "    return dp[-1][-1]\n",
    "\n",
    "\n",
    "lst = [1, 2, 3, 4, 5, 6, 7, 8]\n",
    "total = 32\n",
    "\n",
    "subset_sum(lst, total)"
   ]
  },
  {
   "cell_type": "markdown",
   "id": "dd43f457",
   "metadata": {},
   "source": [
    "### Equal sum partition problem\n",
    "- divide the subset into 2 partition with equal sum (possible or not)\n",
    "- o/p: True/False\n",
    "\n",
    "- Solution\n",
    "    - array sum is even, ie 2s\n",
    "    - there is a sum of s in the array (subset sum)\n",
    "    - if both the cases are true -> then equal sum partition"
   ]
  },
  {
   "cell_type": "code",
   "execution_count": 16,
   "id": "127062b7",
   "metadata": {},
   "outputs": [
    {
     "data": {
      "text/plain": [
       "True"
      ]
     },
     "execution_count": 16,
     "metadata": {},
     "output_type": "execute_result"
    }
   ],
   "source": [
    "def subset_sum(lst, total):\n",
    "    n = len(lst)\n",
    "    dp = [[0 for _ in range(total+1)]\n",
    "          for _ in range(n+1)]\n",
    "    \n",
    "    # True, when the sum is 0\n",
    "    for i in range(n+1):\n",
    "        dp[i][0] = True\n",
    "    \n",
    "    # False, when len(lst) = 0, where sum != 0\n",
    "    for i in range(1, total+1):\n",
    "        dp[0][i] = False\n",
    "        \n",
    "    for i in range(1, n+1):\n",
    "        for t in range(1, total+1):\n",
    "            if t >= lst[i-1]:\n",
    "                dp[i][t] = dp[i-1][t] or dp[i-1][t-lst[i-1]]\n",
    "            else:\n",
    "                dp[i][t] = dp[i-1][t]\n",
    "    \n",
    "    return dp[-1][-1]\n",
    "            \n",
    "def equal_sum_partion(lst):\n",
    "    s = sum(lst)\n",
    "    if s%2 == 0:\n",
    "        if subset_sum(lst, s//2):\n",
    "            return True\n",
    "    return False\n",
    "\n",
    "lst = [1, 5, 11, 5]\n",
    "equal_sum_partion(lst)\n",
    "        "
   ]
  },
  {
   "cell_type": "markdown",
   "id": "cd7f39dc",
   "metadata": {},
   "source": [
    "### Count of subset sum with a given sum\n",
    "- input\n",
    "    - list \n",
    "    - sum\n",
    "- output\n",
    "    - count of subset with the sum\n",
    "- matrix\n",
    "    - dp[n+1][sum+1]\n",
    "- initalization\n",
    "    - when sum = 0\n",
    "        - 1 (null subset)\n",
    "    - when the list = 0 and sum != 0\n",
    "        - 0\n",
    "- main code\n",
    "    - if the sum > element\n",
    "        - include / not include (old case)\n",
    "        - we need to add the item (dp[n][s-1] + dp[n][s-lst[n-1]]\n",
    "    - else\n",
    "        - dp[n][s-1]"
   ]
  },
  {
   "cell_type": "code",
   "execution_count": 14,
   "id": "36397fa8",
   "metadata": {},
   "outputs": [
    {
     "data": {
      "text/plain": [
       "3"
      ]
     },
     "execution_count": 14,
     "metadata": {},
     "output_type": "execute_result"
    }
   ],
   "source": [
    "def count_of_sum(lst, s):\n",
    "    n = len(lst)\n",
    "    \n",
    "    dp = [[0 for _ in range(s+1)]\n",
    "          for _ in range(n+1)]\n",
    "    \n",
    "    # if the sum = 0: then 1 (null set)\n",
    "    for i in range(n+1):\n",
    "        dp[i][0] = 1\n",
    "        \n",
    "    # if lst is empty then 0 (not possible)\n",
    "    for i in range(1, s+1):\n",
    "        dp[0][i] = 0\n",
    "        \n",
    "    for i in range(1, n+1):\n",
    "        for t in range(1, s+1):\n",
    "            if t >= lst[i-1]:\n",
    "                dp[i][t] = dp[i-1][t] + dp[i-1][t-lst[i-1]]\n",
    "            else:\n",
    "                dp[i][t] = dp[i-1][t]\n",
    "                \n",
    "    return dp[-1][-1]\n",
    "\n",
    "lst = [2, 3, 5, 8, 10]\n",
    "s = 10\n",
    "\n",
    "count_of_sum(lst, s)"
   ]
  },
  {
   "cell_type": "markdown",
   "id": "f876c69d",
   "metadata": {},
   "source": [
    "### Minimum subset sum difference\n",
    "- url: https://www.youtube.com/watch?v=-GtpxG6l_Mc&list=PL_z_8CaSLPWekqhdCPmFohncHwz8TY2Go&index=10\n",
    "- input\n",
    "    - list\n",
    "- output\n",
    "    - int\n",
    "    - what is the minimum possible diff between 2 partion sums\n",
    "    - absolute difference\n",
    "- example\n",
    "    - lst = [1, 6, 11, 5], output = 1\n",
    "    \n",
    "- solution\n",
    "    - can we find some range of diff\n",
    "        - min diff = 0\n",
    "        - maximum difference = sum(lst)\n",
    "    - out of these diff some some exists, that can be found from the subset sum matrix last row\n",
    "    - all the sums are there in the last row, consider the sums range from [0 to 10]\n",
    "        - let sums are s1 and s2\n",
    "        - if s1 = 1 then s2 will be 9 we can write s2-s1 => range - 2*s1 (since s2 = range -s1)\n",
    "        - s1 is from 0 to half of the range\n",
    "    - so the solution is min(range - 2*s1) where s1 ranges from 0 to range/2"
   ]
  },
  {
   "cell_type": "code",
   "execution_count": 1,
   "id": "1a415a32",
   "metadata": {},
   "outputs": [
    {
     "data": {
      "text/plain": [
       "1"
      ]
     },
     "execution_count": 1,
     "metadata": {},
     "output_type": "execute_result"
    }
   ],
   "source": [
    "def subset_sum(lst, total):\n",
    "    dp = [[0 for _ in range(total+1)]\n",
    "          for _ in range(len(lst)+1)]\n",
    "    \n",
    "    # if the sum is zero -> True\n",
    "    for i in range(len(lst)+1):\n",
    "        dp[i][0] = True\n",
    "        \n",
    "    # if the lst = 0, then only 0 can be made\n",
    "    for i in range(1, total+1):\n",
    "        dp[0][i] = False\n",
    "        \n",
    "    for d in range(1, len(lst)+1):\n",
    "        for t in range(1, total+1):\n",
    "            if t >= lst[d-1]:\n",
    "                dp[d][t] = dp[d-1][t-lst[d-1]] or dp[d-1][t]\n",
    "            else:\n",
    "                dp[d][t] = dp[d-1][t]\n",
    "                \n",
    "    return dp[-1]\n",
    "\n",
    "def min_subset_sum_difference(lst):\n",
    "    n = len(lst)\n",
    "    rge = sum(lst)   \n",
    "    poss_values = subset_sum(lst, rge)\n",
    "    \n",
    "    mn = 9999\n",
    "    for i in range(rge//2+1):\n",
    "        if poss_values[i]:\n",
    "#             print(f'poss_value: {i}, min_diff: {rge-2*i}')\n",
    "            mn = min(mn, rge-2*i)\n",
    "            \n",
    "    return mn\n",
    "\n",
    "lst = [1, 5, 6, 11]\n",
    "min_subset_sum_difference(lst)"
   ]
  },
  {
   "cell_type": "markdown",
   "id": "7eabdbff",
   "metadata": {},
   "source": [
    "### Count the number of subset with a given difference\n",
    "- input\n",
    "    - list eg: [1, 3, 5, 7]\n",
    "    - difference eg: 2\n",
    "- ouput\n",
    "    - count: 4\n",
    "    \n",
    "- solution\n",
    "    - divide into subsets s1 and s2\n",
    "        - s1 - s2 = diff\n",
    "        - s1 + s2 = sum(lst)\n",
    "        - 2s1 = diff + sum(lst)\n",
    "        - <b>=> s1 = <sup>(diff + sum(lst))</sup>/<sub>2</sub></b>\n",
    "        \n",
    "        - so from the given example => s1 = (2+16)/2 = 9\n",
    "            - diff = 2\n",
    "            - sum(lst) = 16\n",
    "        - so subset 1 should be 9\n",
    "        - => now we need to know the subset with sum = 9"
   ]
  },
  {
   "cell_type": "code",
   "execution_count": 4,
   "id": "6b100c94",
   "metadata": {},
   "outputs": [
    {
     "data": {
      "text/plain": [
       "1"
      ]
     },
     "execution_count": 4,
     "metadata": {},
     "output_type": "execute_result"
    }
   ],
   "source": [
    "def count_of_sum(lst, s):\n",
    "    n = len(lst)\n",
    "    \n",
    "    dp = [[0 for _ in range(s+1)]\n",
    "          for _ in range(n+1)]\n",
    "    \n",
    "    # if the sum = 0: then 1 (null set)\n",
    "    for i in range(n+1):\n",
    "        dp[i][0] = 1\n",
    "        \n",
    "    # if lst is empty then 0 (not possible)\n",
    "    for i in range(1, s+1):\n",
    "        dp[0][i] = 0\n",
    "        \n",
    "    for i in range(1, n+1):\n",
    "        for t in range(1, s+1):\n",
    "            if t >= lst[i-1]:\n",
    "                dp[i][t] = dp[i-1][t] + dp[i-1][t-lst[i-1]]\n",
    "            else:\n",
    "                dp[i][t] = dp[i-1][t]\n",
    "                \n",
    "    return dp[-1][-1]\n",
    "\n",
    "def count_the_number_of_subset_with_given_diff(lst, diff):\n",
    "    tot = sum(lst)\n",
    "    \n",
    "    if (tot + diff)%2 == 0:\n",
    "        subset_sum = (tot + diff)//2\n",
    "        \n",
    "        return count_of_sum(lst, subset_sum)\n",
    "    \n",
    "    else:\n",
    "        return 0\n",
    "\n",
    "lst = [1, 3, 5, 7]\n",
    "diff = 2\n",
    "count_the_number_of_subset_with_given_diff(lst, diff)"
   ]
  },
  {
   "cell_type": "markdown",
   "id": "a2e99165",
   "metadata": {},
   "source": [
    "### Target sum\n",
    "- input \n",
    "    - lst [1, 1, 2, 3], sum = 1\n",
    "- output\n",
    "    - output 1\n",
    "    \n",
    "- we need to add sign before every element so that the sum of the array should be equal to the given sum\n",
    "\n",
    "- solution\n",
    "    - modifed target some problem\n",
    "    - need to divide a subset to +ve\n",
    "    - another subset to -ve\n",
    "    - equations\n",
    "        - s1 - s2 = sum\n",
    "        - sum(array) = s1 + s2\n",
    "        - => 2*s1 = sum+sum(array)\n",
    "        - s1 = (sum+sum(array))/2\n",
    "    - count_subset_sum(lst, s1)"
   ]
  },
  {
   "cell_type": "code",
   "execution_count": 7,
   "id": "bceae1f1",
   "metadata": {},
   "outputs": [
    {
     "data": {
      "text/plain": [
       "1"
      ]
     },
     "execution_count": 7,
     "metadata": {},
     "output_type": "execute_result"
    }
   ],
   "source": [
    "def count_of_sum(lst, s):\n",
    "    n = len(lst)\n",
    "    \n",
    "    dp = [[0 for _ in range(s+1)]\n",
    "          for _ in range(n+1)]\n",
    "    \n",
    "    # if the sum = 0: then 1 (null set)\n",
    "    for i in range(n+1):\n",
    "        dp[i][0] = 1\n",
    "        \n",
    "    # if lst is empty then 0 (not possible)\n",
    "    for i in range(1, s+1):\n",
    "        dp[0][i] = 0\n",
    "        \n",
    "    for i in range(1, n+1):\n",
    "        for t in range(1, s+1):\n",
    "            if t >= lst[i-1]:\n",
    "                dp[i][t] = dp[i-1][t] + dp[i-1][t-lst[i-1]]\n",
    "            else:\n",
    "                dp[i][t] = dp[i-1][t]\n",
    "                \n",
    "    return dp[-1][-1]\n",
    "\n",
    "def traget_sum(lst, total):\n",
    "    s = (sum(lst) - total)\n",
    "    \n",
    "    if s%2 == 0:\n",
    "        return count_of_sum(lst, s//2)\n",
    "    else:\n",
    "        return 0\n",
    "    \n",
    "lst = [1, 3, 5, 7]\n",
    "total = 2\n",
    "traget_sum(lst, total)"
   ]
  },
  {
   "cell_type": "markdown",
   "id": "33b00ab4",
   "metadata": {},
   "source": [
    "## Unbounded Knapsack\n",
    "\n",
    "- we can take items multiple times"
   ]
  },
  {
   "cell_type": "code",
   "execution_count": 11,
   "id": "ca47d78a",
   "metadata": {},
   "outputs": [
    {
     "data": {
      "text/plain": [
       "[0, 0, 3, 4, 6, 7, 9, 10, 12, 13]"
      ]
     },
     "execution_count": 11,
     "metadata": {},
     "output_type": "execute_result"
    }
   ],
   "source": [
    "def unbounded_kanpsack(weights, values, capacity):\n",
    "    dp = [0 for _ in range(capacity+1)]\n",
    "    \n",
    "    # capacity = 0, value = 0\n",
    "    dp[0] = 0\n",
    "    \n",
    "    for c in range(1, capacity+1):\n",
    "        for i, w in enumerate(weights):\n",
    "            if c >= w:\n",
    "                dp[c] = max(values[i] + dp[c-w], dp[c])\n",
    "    return dp\n",
    "\n",
    "weights = [2, 3, 6, 4]\n",
    "values = [3, 4, 6, 5]\n",
    "capacity = 9\n",
    "\n",
    "unbounded_kanpsack(weights, values, capacity)"
   ]
  },
  {
   "cell_type": "code",
   "execution_count": 17,
   "id": "a0c87751",
   "metadata": {},
   "outputs": [
    {
     "data": {
      "text/plain": [
       "[[0, 0, 0, 0, 0, 0, 0, 0, 0, 0],\n",
       " [0, 0, 3, 3, 6, 6, 9, 9, 12, 12],\n",
       " [0, 0, 3, 4, 6, 7, 9, 10, 12, 13],\n",
       " [0, 0, 3, 4, 6, 7, 9, 10, 12, 13],\n",
       " [0, 0, 3, 4, 6, 7, 9, 10, 12, 13]]"
      ]
     },
     "execution_count": 17,
     "metadata": {},
     "output_type": "execute_result"
    }
   ],
   "source": [
    "## Another way\n",
    "def unbounded_kanpsack(weights, values, capacity):\n",
    "    n = len(values)\n",
    "    dp = [[0 for _ in range(capacity+1)]\n",
    "          for _ in range(n+1)]\n",
    "    \n",
    "    # capacity = 0, value = 0\n",
    "    for i in range(n+1):\n",
    "        dp[i][0] = 0\n",
    "        \n",
    "    # list is empty, value = 0\n",
    "    for i in range(capacity+1):\n",
    "        dp[0][i] = 0\n",
    "        \n",
    "    for i in range(1, n+1):\n",
    "        for c in range(1, capacity+1):\n",
    "            if c >= weights[i-1]:\n",
    "                dp[i][c] = max(\n",
    "                    values[i-1] + dp[i][c-weights[i-1]], # if we select an item we can select it more than one\n",
    "                    dp[i-1][c] # if we dont select one we will not select it again\n",
    "                )\n",
    "            else:\n",
    "                dp[i][c] = dp[i-1][c]\n",
    "                \n",
    "    return dp\n",
    "\n",
    "weights = [2, 3, 6, 4]\n",
    "values = [3, 4, 6, 5]\n",
    "capacity = 9\n",
    "\n",
    "unbounded_kanpsack(weights, values, capacity)"
   ]
  },
  {
   "cell_type": "markdown",
   "id": "95a662f1",
   "metadata": {},
   "source": [
    "### Rod cutting problem\n",
    "- input\n",
    "    - length array\n",
    "    - price array\n",
    "- output\n",
    "    - length of the rod\n",
    "    \n",
    "- given a rod of lenght 8, you have to cut it the price of different lengths are given find the maximum profit one can make"
   ]
  },
  {
   "cell_type": "code",
   "execution_count": 25,
   "id": "2e0b39fe",
   "metadata": {},
   "outputs": [
    {
     "data": {
      "text/plain": [
       "[0, 1, 5, 8, 10, 13, 17, 18, 22]"
      ]
     },
     "execution_count": 25,
     "metadata": {},
     "output_type": "execute_result"
    }
   ],
   "source": [
    "def rod_cutting(size, price, length):\n",
    "    dp = [0 for _ in range(length+1)]\n",
    "    \n",
    "    dp[0] = 0\n",
    "    \n",
    "    for l in range(1, length+1):\n",
    "        for i in range(1, len(size)+1):\n",
    "            if l >= size[i-1]:\n",
    "                dp[l] = max(price[i-1] + dp[l-size[i-1]], dp[l])\n",
    "    return dp\n",
    "\n",
    "size = [1, 2, 3, 4, 5, 6, 7, 8]\n",
    "price = [1, 5, 8, 9, 10, 17, 17, 20]\n",
    "l = 8\n",
    "\n",
    "rod_cutting(size, price, l)"
   ]
  },
  {
   "cell_type": "markdown",
   "id": "7421ab2a",
   "metadata": {},
   "source": [
    "### Coin problem\n",
    "- how to give change for a given sum with minimum number of coins\n",
    "\n",
    "- input: \n",
    "    - lst of available denomination\n",
    "    - the amount \n",
    "- output:\n",
    "    - minimum number of coins required\n"
   ]
  },
  {
   "cell_type": "code",
   "execution_count": 14,
   "id": "2d0100ba",
   "metadata": {},
   "outputs": [
    {
     "data": {
      "text/plain": [
       "4"
      ]
     },
     "execution_count": 14,
     "metadata": {},
     "output_type": "execute_result"
    }
   ],
   "source": [
    "import math\n",
    "\n",
    "def minimum_no_coins(lst, amt):\n",
    "    dp = [math.inf for _ in range(amt+1)]\n",
    "    \n",
    "    # if the amt = 0 then the no_coins = 0\n",
    "    dp[0] = 0\n",
    "    \n",
    "    for a in range(1, amt+1):\n",
    "        for c in lst:\n",
    "            dp[a] = min(\n",
    "                dp[a], \n",
    "                dp[a - c]+1\n",
    "            )\n",
    "            \n",
    "    return dp[-1]\n",
    "\n",
    "amt = 31\n",
    "lst = [2, 7, 10, 20]\n",
    "minimum_no_coins(lst, amt)"
   ]
  },
  {
   "cell_type": "markdown",
   "id": "b5b0d55a",
   "metadata": {},
   "source": [
    "### Coin Problem: Maximum ways\n",
    "- given an amount and available denominations, what is the maximum no of ways one can give the given amount using the available denominations"
   ]
  },
  {
   "cell_type": "code",
   "execution_count": 9,
   "id": "aaaf1883",
   "metadata": {},
   "outputs": [
    {
     "data": {
      "text/plain": [
       "[[1, 0, 0, 0, 0, 0],\n",
       " [1, 1, 1, 1, 1, 1],\n",
       " [1, 1, 2, 2, 3, 3],\n",
       " [1, 1, 2, 3, 4, 5]]"
      ]
     },
     "execution_count": 9,
     "metadata": {},
     "output_type": "execute_result"
    }
   ],
   "source": [
    "def coin_max_ways(denominations, amt):\n",
    "    n = len(denominations)\n",
    "    dp = [[0 for _ in range(amt+1)]\n",
    "          for _ in range(n+1)]\n",
    "    \n",
    "    # if amt = 0, then dp = 1 (null set)\n",
    "    for i in range(n+1):\n",
    "        dp[i][0] = 1\n",
    "        \n",
    "    # if denomitionat is empty, then dp = 0\n",
    "    for i in range(1, amt+1):\n",
    "        dp[0][i] = 0\n",
    "        \n",
    "    for i in range(1, n+1):\n",
    "        for a in range(1, amt+1):\n",
    "            if a >= denominations[i-1]:\n",
    "                dp[i][a] = dp[i][a-denominations[i-1]] + dp[i-1][a]\n",
    "            else:\n",
    "                dp[i][a] = dp[i-1][a]\n",
    "    return dp\n",
    "\n",
    "amt = 5\n",
    "lst = [1, 2, 3]\n",
    "coin_max_ways(lst, amt)"
   ]
  },
  {
   "cell_type": "markdown",
   "id": "869e4a77",
   "metadata": {},
   "source": [
    "## Longest Common Subsequence \n",
    "\n",
    "- Recursion\n",
    "    - url: https://www.youtube.com/watch?v=4Urd0a0BNng&list=PL_z_8CaSLPWekqhdCPmFohncHwz8TY2Go&index=19\n",
    "- Memorization\n",
    "- dynamic programming"
   ]
  },
  {
   "cell_type": "code",
   "execution_count": 21,
   "id": "e4f19af3",
   "metadata": {},
   "outputs": [
    {
     "data": {
      "text/plain": [
       "4"
      ]
     },
     "execution_count": 21,
     "metadata": {},
     "output_type": "execute_result"
    }
   ],
   "source": [
    "# Recursion\n",
    "def LCS(x, y):\n",
    "    n = len(x)\n",
    "    m = len(y)\n",
    "    \n",
    "    # base condition\n",
    "    if n == 0 or m == 0:\n",
    "        return 0\n",
    "    \n",
    "    \n",
    "    # if matching need to return 1 + matching of rest\n",
    "    if x[-1] == y[-1]:\n",
    "#         print(f'x: {x}, y{y}')\n",
    "        return 1 + LCS(x[:-1], y[:-1])\n",
    "    \n",
    "    # not matching, either insertion or deletion\n",
    "    else:\n",
    "        return max(\n",
    "            LCS(x[:-1], y),\n",
    "            LCS(x, y[:-1])\n",
    "        )\n",
    "        \n",
    "LCS('abcdaf', 'acbcf')"
   ]
  },
  {
   "cell_type": "code",
   "execution_count": 25,
   "id": "fa335d18",
   "metadata": {},
   "outputs": [
    {
     "data": {
      "text/plain": [
       "[[0, 0, 0, 0, 0, 0, 0],\n",
       " [0, 1, 1, 1, 1, 1, 1],\n",
       " [0, 1, 1, 2, 2, 2, 2],\n",
       " [0, 1, 2, 2, 2, 2, 2],\n",
       " [0, 1, 2, 3, 3, 3, 3],\n",
       " [0, 1, 2, 3, 3, 3, 4]]"
      ]
     },
     "execution_count": 25,
     "metadata": {},
     "output_type": "execute_result"
    }
   ],
   "source": [
    "# dynamic programming\n",
    "\n",
    "def dp_lcs(x, y):\n",
    "    n = len(x)\n",
    "    m = len(y)\n",
    "    \n",
    "    dp = [[0 for _ in range(n+1)]\n",
    "          for _ in range(m+1)]\n",
    "    \n",
    "    # 0 for 0th position of each word, not matching\n",
    "    for i in range(n+1):\n",
    "        dp[0][i] = 0\n",
    "        \n",
    "    for i in range(m+1):\n",
    "        dp[i][0] = 0\n",
    "        \n",
    "    for i in range(1, m+1):\n",
    "        for j in range(1, n+1):\n",
    "            if x[j-1] == y[i-1]:\n",
    "                dp[i][j] = dp[i-1][j-1]+1\n",
    "            else:\n",
    "                dp[i][j] = max(\n",
    "                    dp[i-1][j],\n",
    "                    dp[i][j-1]\n",
    "                )\n",
    "    return dp\n",
    "\n",
    "dp_lcs('abcdaf', 'acbcf')"
   ]
  },
  {
   "cell_type": "markdown",
   "id": "06976959",
   "metadata": {},
   "source": [
    "### Print the longest sub sequence\n",
    "- table\n",
    "    - when the characters in the row and column are same then diagonal + 1\n",
    "    - else: max of (side, above)\n",
    "\n",
    "| |0|<span style=\"color:red\">a</span>|<span style=\"color:red\">b</span>|<span style=\"color:red\">c</span>|<span style=\"color:red\">d</span>|<span style=\"color:red\">a</span>|<span style=\"color:red\">f</span>|\n",
    "|:-:|:-:|:-:|:-:|:-:|:-:|:-:|:-:|\n",
    "|<b>0</b>|0|0|0|0|0|0|0|\n",
    "|<span style=\"color:red\"><b>a</b></span>|0|<b>1</b>|1|1|1|1|1|\n",
    "|<span style=\"color:red\"><b>c</b></span>|0|1|1|2|2|2|2|\n",
    "|<span style=\"color:red\"><b>b</b></span>|0|1|<b>2</b>|2|2|2|2|\n",
    "|<span style=\"color:red\"><b>c</b></span>|0|1|2|<b>3</b>|3|3|3|\n",
    "|<span style=\"color:red\"><b>f</b></span>|0|1|2|3|3|3|<b>4</b>|\n",
    "\n",
    "- start from last element in the matrix\n",
    "- if column == row:\n",
    "    - select the character\n",
    "- if not\n",
    "    - find the maximum (side or above)\n",
    "    - move to the maximum\n",
    "    - check the row == column\n",
    "- repeat\n",
    "\n",
    "- There is a better way\n",
    "    - start from the last element\n",
    "    - if value is same as above\n",
    "        - move value to above\n",
    "    - elif last value same as side\n",
    "        - move to side\n",
    "    - else\n",
    "        - move to diagonal\n",
    "        - add a character at the begining of the list\n",
    "            - the (i-1)th character from first string\n",
    "            - or the (j-1)th character from the second string"
   ]
  },
  {
   "cell_type": "code",
   "execution_count": 45,
   "id": "68a2fc12",
   "metadata": {},
   "outputs": [
    {
     "data": {
      "text/plain": [
       "'abcf'"
      ]
     },
     "execution_count": 45,
     "metadata": {},
     "output_type": "execute_result"
    }
   ],
   "source": [
    "def dp_print_lcs(x, y):\n",
    "    n = len(x)\n",
    "    m = len(y)\n",
    "    \n",
    "    dp = [[0 for _ in range(n+1)]\n",
    "          for _ in range(m+1)]\n",
    "    \n",
    "    # 0 for 0th position of each word, not matching\n",
    "    for i in range(n+1):\n",
    "        dp[0][i] = 0\n",
    "        \n",
    "    for i in range(m+1):\n",
    "        dp[i][0] = 0\n",
    "        \n",
    "    for i in range(1, m+1):\n",
    "        for j in range(1, n+1):\n",
    "            if x[j-1] == y[i-1]:\n",
    "                dp[i][j] = dp[i-1][j-1]+1\n",
    "            else:\n",
    "                dp[i][j] = max(\n",
    "                    dp[i-1][j],\n",
    "                    dp[i][j-1]\n",
    "                )\n",
    "                \n",
    "    # backtracking to print the lcs\n",
    "    i, j = m, n\n",
    "    lcs = ''\n",
    "    while i != 0 and j != 0:\n",
    "        \n",
    "        if dp[i-1][j] == dp[i][j]:\n",
    "            i -= 1\n",
    "        elif dp[i][j-1] == dp[i][j]:\n",
    "            j -= 1\n",
    "        else:\n",
    "            lcs = x[j-1] + lcs\n",
    "            i -= 1\n",
    "            j -= 1\n",
    "            \n",
    "    return lcs\n",
    "\n",
    "print_lcs('abcdaf', 'acbcf')"
   ]
  },
  {
   "cell_type": "markdown",
   "id": "f47c3c59",
   "metadata": {},
   "source": [
    "### Longest common stubstring\n",
    "- the string is continous\n",
    "    - eg 'abcdef' and 'abcmef', here the longest substring is 'abc'"
   ]
  },
  {
   "cell_type": "code",
   "execution_count": 42,
   "id": "19eb36cd",
   "metadata": {},
   "outputs": [
    {
     "data": {
      "text/plain": [
       "[[0, 0, 0, 0, 0, 0],\n",
       " [0, 1, 0, 0, 0, 0],\n",
       " [0, 0, 2, 0, 0, 0],\n",
       " [0, 0, 0, 0, 0, 0],\n",
       " [0, 0, 0, 1, 0, 0],\n",
       " [0, 0, 0, 0, 0, 1]]"
      ]
     },
     "execution_count": 42,
     "metadata": {},
     "output_type": "execute_result"
    }
   ],
   "source": [
    "def longest_common_substring(x, y):\n",
    "    n = len(x)\n",
    "    m = len(y)\n",
    "    \n",
    "    dp = [[0 for _ in range(n+1)]\n",
    "          for _ in range(m+1)]\n",
    "    \n",
    "     # 0 for 0th position of each word, not matching\n",
    "    for i in range(n+1):\n",
    "        dp[0][i] = 0\n",
    "        \n",
    "    for i in range(m+1):\n",
    "        dp[i][0] = 0\n",
    "        \n",
    "    for i in range(1, m+1):\n",
    "        for j in range(1, n+1):\n",
    "            if x[j-1] == y[i-1]:\n",
    "                dp[i][j] = dp[i-1][j-1]+1\n",
    "            else:\n",
    "                # if we find a non-macthing character pair\n",
    "                # the count is set to zero\n",
    "                dp[i][j] = 0\n",
    "                \n",
    "    # the longest common substring is the maximum of matrix\n",
    "    return dp\n",
    "    \n",
    "    \n",
    "\n",
    "x = 'abcde'\n",
    "y = 'abfce'\n",
    "longest_common_substring(x, y)"
   ]
  },
  {
   "cell_type": "markdown",
   "id": "85eb26d0",
   "metadata": {},
   "source": [
    "### Minimum common super string\n",
    "- problem: given 2 string we need to find the lenght of the super string for which the given sequences are the sub-sequence\n",
    "\n",
    "- <b>input:</b> 2 strings\n",
    "    eg: abcd, acxde\n",
    "- <b>output:</b> length of super string\n",
    "    - here the superstring will be -> abcxde -> length: 6\n",
    "    \n",
    "- <b>approach:</b> the maximum lenght will be: len(a) + len(b) -> 4+5 = 9\n",
    "- from the max we can reduce the maximum common substring length = (acd) = 3 (this dp we know)\n",
    "- so the lenght of minimum common superstring = 9-3 = 6"
   ]
  },
  {
   "cell_type": "code",
   "execution_count": 3,
   "id": "423b23df",
   "metadata": {},
   "outputs": [
    {
     "data": {
      "text/plain": [
       "'acbcdaf'"
      ]
     },
     "execution_count": 3,
     "metadata": {},
     "output_type": "execute_result"
    }
   ],
   "source": [
    "import math\n",
    "\n",
    "def minimum_common_superstring(x, y):\n",
    "    \n",
    "    n = len(x)\n",
    "    m = len(y)\n",
    "    \n",
    "    dp = [[math.inf for _ in range(n+1)]\n",
    "          for _ in range(m+1)]\n",
    "    \n",
    "    # initialize\n",
    "    # i for 0th row, since shifting (insertion, deletion) one postion cost 1\n",
    "    # i postion cost i\n",
    "    for i in range(n+1):\n",
    "        dp[0][i] = i\n",
    "        \n",
    "    for i in range(m+1):\n",
    "        dp[i][0] = i\n",
    "        \n",
    "    for j in range(1, m+1):\n",
    "        for i in range(1, n+1):\n",
    "            if x[i-1] == y[j-1]:\n",
    "                dp[j][i] = dp[j-1][i-1]+1\n",
    "            else:\n",
    "                dp[j][i] = min(\n",
    "                    dp[j-1][i] + 1,\n",
    "                    dp[j][i-1] + 1\n",
    "                )\n",
    "                \n",
    "    # back tracking\n",
    "    i, j = n, m\n",
    "    super_sequence = ''\n",
    "    \n",
    "    while i != 0 or j != 0:\n",
    "#         print(f'i: {i}, j: {j}')\n",
    "        if x[i-1] == y[j-1]:\n",
    "            super_sequence = x[i-1] + super_sequence\n",
    "            i -= 1\n",
    "            j -= 1\n",
    "        else:\n",
    "            # checking minimum side, since we have used min in the dp loop\n",
    "            if dp[j-1][i] < dp[j][i-1]:\n",
    "                super_sequence = y[j-1] + super_sequence\n",
    "                j -= 1\n",
    "            else:\n",
    "                super_sequence = x[i-1] + super_sequence\n",
    "                i -= 1\n",
    "                \n",
    "        \n",
    "    return super_sequence\n",
    "\n",
    "# x = 'abcd'\n",
    "# y = 'acxde'\n",
    "# x = \"AGGTAB\"\n",
    "# y = \"GXTXAYB\"\n",
    "\n",
    "# 'AGXGTXAYB'\n",
    "\n",
    "x =  'abcdaf'\n",
    "y = 'acbcf'\n",
    "\n",
    "minimum_common_superstring(x, y)"
   ]
  },
  {
   "cell_type": "markdown",
   "id": "72f2090d",
   "metadata": {},
   "source": [
    "### Minimum number of insertion or deletion required to convert string 'a' to string 'b'\n",
    "\n",
    "- input: string a, string b\n",
    "- output: count (insertion + deletion)\n",
    "\n",
    "#### Another approach\n",
    "- incase we need to count the insertions and deletions seperately\n",
    "- find LCS, we dont need to touch the LCS\n",
    "- find the len(a) - len(LCS) = <b>no of deletions</b>\n",
    "    - since these characters are not in the second string, need to delete\n",
    "- find len(b) - len(LCS) = <b>no of insertions</b>\n",
    "    - these characters we need to add"
   ]
  },
  {
   "cell_type": "code",
   "execution_count": 32,
   "id": "9b9e9b0c",
   "metadata": {},
   "outputs": [
    {
     "data": {
      "text/plain": [
       "(1, 2)"
      ]
     },
     "execution_count": 32,
     "metadata": {},
     "output_type": "execute_result"
    }
   ],
   "source": [
    "def min_inseration_deletion(x, y):\n",
    "    \n",
    "    # code for finding LCS\n",
    "    n = len(x)\n",
    "    m = len(y)\n",
    "    \n",
    "    dp = [[0 for _ in range(n+1)]\n",
    "         for _ in range(m+1)]\n",
    "    \n",
    "    # initalization\n",
    "    for i in range(n+1):\n",
    "        dp[0][i] = 0\n",
    "        \n",
    "    for i in range(m+1):\n",
    "        dp[i][0] = 0\n",
    "    \n",
    "        \n",
    "    for j in range(1, m+1):\n",
    "        for i in range(1, n+1):\n",
    "            if x[i-1] == y[j-1]:\n",
    "                dp[j][i] = dp[j-1][i-1] + 1\n",
    "            else:\n",
    "                # add 1 for inseration/deletion\n",
    "                dp[j][i] = max(\n",
    "                    dp[j-1][i],\n",
    "                    dp[j][i-1]\n",
    "                )\n",
    "                \n",
    "    len_lcs =  dp[-1][-1]\n",
    "    len_x = len(x)\n",
    "    len_y = len(y)\n",
    "    \n",
    "    # no_deletion => extra char in string a => len(a) - len(lcs)\n",
    "    # no_insertions => len(b) - len(lcs)\n",
    "    \n",
    "    no_deletion = len_x - len_lcs\n",
    "    no_insertion = len_y - len_lcs\n",
    "    \n",
    "    return no_insertion, no_deletion\n",
    "\n",
    "x = 'heap'\n",
    "y = 'pea'\n",
    "min_inseration_deletion(x, y)"
   ]
  },
  {
   "cell_type": "markdown",
   "id": "6b00dc84",
   "metadata": {},
   "source": [
    "### Largest Paliendromic Subsequence\n",
    "- input: string\n",
    "    - 'agbcba'\n",
    "- ouput:\n",
    "    - 5\n",
    "    \n",
    "- solution\n",
    "    - LCS(string, string_reverse)"
   ]
  },
  {
   "cell_type": "code",
   "execution_count": 46,
   "id": "01ff70f7",
   "metadata": {},
   "outputs": [
    {
     "data": {
      "text/plain": [
       "'abcba'"
      ]
     },
     "execution_count": 46,
     "metadata": {},
     "output_type": "execute_result"
    }
   ],
   "source": [
    "def largest_paliendromic_subsequence(x):\n",
    "    n = len(x)\n",
    "    y = x[::-1]\n",
    "    \n",
    "    dp = [[0 for _ in range(n+1)]\n",
    "          for _ in range(n+1)]\n",
    "    \n",
    "    # 0 for 0th position of each word, not matching\n",
    "    for i in range(n+1):\n",
    "        dp[0][i] = 0\n",
    "        \n",
    "    for i in range(n+1):\n",
    "        dp[i][0] = 0\n",
    "        \n",
    "    for i in range(1, n+1):\n",
    "        for j in range(1, n+1):\n",
    "            if x[j-1] == y[i-1]:\n",
    "                dp[i][j] = dp[i-1][j-1]+1\n",
    "            else:\n",
    "                dp[i][j] = max(\n",
    "                    dp[i-1][j],\n",
    "                    dp[i][j-1]\n",
    "                )\n",
    "                \n",
    "    # backtrack the paliendrome\n",
    "    i, j = n, n\n",
    "    s = ''\n",
    "    while i != 0 and j != 0:\n",
    "        \n",
    "        if dp[i][j] == dp[i-1][j]:\n",
    "            i -= 1\n",
    "        elif dp[i][j] == dp[i][j-1]:\n",
    "            j -= 1\n",
    "        else:\n",
    "#             print(f'i: {i}, j: {j}')\n",
    "            s = x[j-1] + s \n",
    "            # need to use j otherwise diff result\n",
    "            # j represent the rows\n",
    "            i -= 1\n",
    "            j -= 1\n",
    "            \n",
    "    return s\n",
    "\n",
    "x = 'agbcba'\n",
    "largest_paliendromic_subsequence(x)"
   ]
  },
  {
   "cell_type": "markdown",
   "id": "56d04309",
   "metadata": {},
   "source": [
    "### minimum number of deletion to make a string paliendrome\n",
    "- input: string\n",
    "- output: int\n",
    "    \n",
    "- earlier problem, we will get the maximum paliendrom string\n",
    "    - len(string) - len(max_paliendrom) = output"
   ]
  },
  {
   "cell_type": "code",
   "execution_count": 59,
   "id": "f76f7e0c",
   "metadata": {},
   "outputs": [
    {
     "data": {
      "text/plain": [
       "3"
      ]
     },
     "execution_count": 59,
     "metadata": {},
     "output_type": "execute_result"
    }
   ],
   "source": [
    "def min_deletion_make_paliendrome(x):\n",
    "    n = len(x)\n",
    "    y = x[::-1]\n",
    "    \n",
    "    dp = [[0 for _ in range(n+1)]\n",
    "         for _ in range(n+1)]\n",
    "    \n",
    "    # initialization\n",
    "    for i in range(n):\n",
    "        dp[i][0] = 0\n",
    "        dp[0][i] = 0\n",
    "        \n",
    "    for i in range(1, n+1):\n",
    "        for j in range(1, n+1):\n",
    "            if x[i-1] == y[j-1]:\n",
    "                dp[i][j] = dp[i-1][j-1]+1\n",
    "            else:\n",
    "                dp[i][j] = max(\n",
    "                    dp[i-1][j],\n",
    "                    dp[i][j-1]\n",
    "                )\n",
    "                \n",
    "    len_paliendrom = dp[-1][-1]\n",
    "    min_deletion = n - len_paliendrom\n",
    "    \n",
    "    return min_deletion\n",
    "\n",
    "x = 'abcdhcjkba'\n",
    "min_deletion_make_paliendrome(x)"
   ]
  },
  {
   "cell_type": "markdown",
   "id": "1620c0e7",
   "metadata": {},
   "source": [
    "### Longest Repeating subsequence\n",
    "- input: str\n",
    "    - 'aabebcdd'\n",
    "- ouput\n",
    "    - length of the subsequence: 3\n",
    "    - 'abd'\n",
    "    - the sequence should repeat in the sequence\n",
    "- solution\n",
    "    - same LCS code, need to check LCS(x, x)\n",
    "    - need to check the index of i != j while checking x[i-1] == x[j-1], to ensure that the character is repeating"
   ]
  },
  {
   "cell_type": "code",
   "execution_count": 14,
   "id": "2d09196c",
   "metadata": {},
   "outputs": [
    {
     "data": {
      "text/plain": [
       "[[0, 0, 0, 0, 0, 0, 0, 0, 0],\n",
       " [0, 0, 1, 1, 1, 1, 1, 1, 1],\n",
       " [0, 1, 1, 1, 1, 1, 1, 1, 1],\n",
       " [0, 1, 1, 1, 1, 2, 2, 2, 2],\n",
       " [0, 1, 1, 1, 1, 2, 2, 2, 2],\n",
       " [0, 1, 1, 2, 2, 2, 2, 2, 2],\n",
       " [0, 1, 1, 2, 2, 2, 2, 2, 2],\n",
       " [0, 1, 1, 2, 2, 2, 2, 2, 3],\n",
       " [0, 1, 1, 2, 2, 2, 2, 3, 3]]"
      ]
     },
     "execution_count": 14,
     "metadata": {},
     "output_type": "execute_result"
    }
   ],
   "source": [
    "def longest_repeating_subsequence(x):\n",
    "    n = len(x)\n",
    "    \n",
    "    dp = [[0 for _ in range(n+1)]\n",
    "         for _ in range(n+1)]\n",
    "    \n",
    "    for i in range(n):\n",
    "        dp[i][0] = 0\n",
    "        dp[0][i] = 0\n",
    "        \n",
    "    for i in range(1, n+1):\n",
    "        for j in range(1, n+1):\n",
    "            # to check repetation, \n",
    "            # we chack the index of both string are not same\n",
    "            if x[i-1] == x[j-1] and i != j:\n",
    "                dp[i][j] = dp[i-1][j-1] + 1\n",
    "            else:\n",
    "                dp[i][j] = max(\n",
    "                    dp[i-1][j],\n",
    "                    dp[i][j-1]\n",
    "                )\n",
    "    return dp\n",
    "\n",
    "x = 'aabebcdd'\n",
    "longest_repeating_subsequence(x)"
   ]
  },
  {
   "cell_type": "markdown",
   "id": "da4d6f25",
   "metadata": {},
   "source": [
    "### Sequence pattern matching\n",
    "- input: a, b\n",
    "    - 'axy', 'adxcpy'\n",
    "- output: True/ False\n",
    "- string a is a subsequence of string b?\n",
    "\n",
    "- <span style = color:blue> <b>solution</b> </span>\n",
    "    - find LCS(a, b), <span style = color:orange>only length required</span>\n",
    "    - if length of LCS == len(a) then True else False"
   ]
  },
  {
   "cell_type": "markdown",
   "id": "56d00d2a",
   "metadata": {},
   "source": [
    "### Mininum number of inseration to a string to make it paliendrome\n",
    "\n",
    "- input\n",
    "    - string\n",
    "    - acbcbda\n",
    "- output\n",
    "    - int\n",
    "    - number of insertions\n",
    "- <span style=color:blue>solution</span>\n",
    "    - find the maximum paliendrom (discussed earlier)\n",
    "    - len(string) - len(paliendrom), these characters are not matched\n",
    "    - we need to add these characters in the string"
   ]
  },
  {
   "cell_type": "code",
   "execution_count": 23,
   "id": "582b655d",
   "metadata": {},
   "outputs": [
    {
     "data": {
      "text/plain": [
       "2"
      ]
     },
     "execution_count": 23,
     "metadata": {},
     "output_type": "execute_result"
    }
   ],
   "source": [
    "import math\n",
    "\n",
    "def min_number_insertions_paliendrom(x):\n",
    "    n = len(x)\n",
    "    y = x[::-1]\n",
    "    \n",
    "    dp = [[math.inf for _ in range(n+1)]\n",
    "         for _ in range(n+1)]\n",
    "    \n",
    "    for i in range(n+1):\n",
    "        dp[i][0] = 0\n",
    "        dp[0][i] = 0\n",
    "        \n",
    "    for i in range(1, n+1):\n",
    "        for j in range(1, n+1):\n",
    "            if x[i-1] == y[j-1]:\n",
    "                dp[i][j] = dp[i-1][j-1] + 1\n",
    "            else:\n",
    "                dp[i][j] = max(\n",
    "                    dp[i][j-1], dp[i-1][j]\n",
    "                )\n",
    "    len_pal =  dp[-1][-1]\n",
    "    no_insertion = n - len_pal\n",
    "    return no_insertion\n",
    "\n",
    "x = 'aebcbda'\n",
    "min_number_insertions_paliendrom(x)"
   ]
  },
  {
   "cell_type": "markdown",
   "id": "e6ca95b5",
   "metadata": {},
   "source": [
    "## Matrix Chain Multiplication\n",
    "\n",
    "- Format\n",
    "    - string, array as input\n",
    "    - we need to break this string [i, j]\n",
    "    - need to move a value from k from i to j\n",
    "    - 2 problem i to k and k+1 to j\n",
    "    - combine the small problems to evaluate the answer for the total problem\n",
    "- code format\n",
    "    - ```\n",
    "    def solve(lst, i, j):\n",
    "    \n",
    "        # Base condition\n",
    "        if i > j: # no element in the array\n",
    "            return 0\n",
    "        \n",
    "        for k in range(i, j):\n",
    "            temp = solve(lst, i, k) + solve(lst, k+1, j)\n",
    "            ans = fun(temp)\n",
    "        \n",
    "        return ans\n",
    "               \n",
    "    ```"
   ]
  },
  {
   "cell_type": "markdown",
   "id": "893071f8",
   "metadata": {},
   "source": [
    "### Matix chain multiplication recursive\n",
    "- problem statement\n",
    "    - input: array -> [40, 20, 30, 10, 30]\n",
    "    - multipy metics\n",
    "    - the number of multiplication should be minimum\n",
    "    - eg multiply metics of dimention [2x3] x [3x6]\n",
    "        - number of multiplications = 2*3*6 -> 36\n",
    "        \n",
    "    - example 3 metics A, B, C of dimention 10x30, 30x5, 5x60 we need to find the multiplication order that makes cost small\n",
    "        - (A*B)*C -> cost => (10*30*5) + (10*5*60) = 1500+300 = 4500\n",
    "        - A*(B*C) -> (10*30*60) + (30*5*60) = 1800 + 900 = 2700\n"
   ]
  },
  {
   "cell_type": "markdown",
   "id": "505b0c49",
   "metadata": {},
   "source": [
    "#### Program overview\n",
    "- lst: [40, 20, 30, 10, 30]\n",
    "- 4 metrix (n-1) metrics\n",
    "- 40x20, 20x30, 30x10, 10x30 are dimensions\n",
    "- need to select i and j\n",
    "    - format is arr[i-1] * arr[i], hence i should start from 1\n",
    "    - j is the last value\n",
    "    \n",
    "- base condition\n",
    "    - if i == j: we dont have any matrix (matrix has 2 dimention)\n",
    "    - so the invalid condition is i >= j:\n",
    "        - return 1\n",
    "        \n",
    "- move k from i to j\n",
    "    - since to get the value for the second matrix k should be j-2\n",
    "    - last value should be k+1 to j <br>\n",
    "    ```\n",
    "    for k in range(i, j-1, 1):\n",
    "        temp = solve(array, i, k) + solve(array, k+1, j) + arr[i]*arr[k]*arr[k]# extra_cost\n",
    "    ```\n",
    "    - extra cost: after multiplication we get 2 arrays \n",
    "        - arr[i] x arr[j]\n",
    "        - arr[j] x arr[k]\n",
    "        - cost of multiplying this array = arr[i] * arr[j] * arr[k]\n",
    "- function to extract the output\n",
    "\n",
    "<b>Note</b>\n",
    "- the brackets are placed at the postion of k\n",
    "- k ranges from 1 to j:\n",
    "    from the fist digit to last digit\n",
    "    - first digit: one matrix is out and all the other matrices are in\n",
    "    - last digit: all matrices are outside the bracket\n"
   ]
  },
  {
   "cell_type": "code",
   "execution_count": 94,
   "id": "613db6d4",
   "metadata": {},
   "outputs": [
    {
     "name": "stdout",
     "output_type": "stream",
     "text": [
      "minmum multiplications: 42\n"
     ]
    }
   ],
   "source": [
    "def solve(lst: list[int], i:int, j:int) -> int:\n",
    "\n",
    "    if i >= j:\n",
    "        return 0\n",
    "    \n",
    "    min_cost = math.inf\n",
    "    # find i, j -> possible values of k\n",
    "        # i start from 1; since metrics dim is a[i-1], a[i]\n",
    "        # j can run upto last element\n",
    "    # recurring_call + extra cost\n",
    "        # recurring call -> solve(lst, i, k) + solve(lst, k+1, j)\n",
    "        # extra cost\n",
    "            # braking the matrix into 2 group\n",
    "            # we need to factor the cost of the last matrix reulting the product of these 2 matrices\n",
    "            # if the matries are of dim:(ixj)(jxk) => cost => i*j*k\n",
    "    for k in range(i, j):\n",
    "        temp_cost = solve(lst, i, k) + solve(lst, k+1, j) \\\n",
    "        + (lst[i-1] * lst[k] * lst[j]) # extra cost    \n",
    "        \n",
    "#         print(f'i: {i}, j: {j}, k: {k}, temp_cost: {temp_cost}')\n",
    "        \n",
    "        if temp_cost < min_cost:\n",
    "            min_cost = temp_cost\n",
    "        \n",
    "    return min_cost\n",
    "\n",
    "# lst = [40, 20, 30, 10, 30]\n",
    "lst = [4, 2, 3, 3]\n",
    "i = 1\n",
    "j = len(lst)-1\n",
    "\n",
    "if __name__ == '__main__':\n",
    "    min_mul = solve(lst, i, j)\n",
    "    \n",
    "    print(f'minmum multiplications: {min_mul}')"
   ]
  },
  {
   "cell_type": "markdown",
   "id": "9d7b2945",
   "metadata": {},
   "source": [
    "### Matrix chain Multiplication Memorization\n",
    "- what is changing:\n",
    "    - i, j\n",
    "    - max values for i and j -> size of the array\n",
    "    - `dp = [[-1 for _ in range(len(lst)+1)] for _ in range(len(lst)+1)]`\n",
    "    ``` \n",
    "    if dp[i][j] == -1:\n",
    "        dp[i][j] = solve(lst, i, j)\n",
    "    return dp[i][j]\n",
    "   ```\n",
    "    \n",
    "    "
   ]
  },
  {
   "cell_type": "code",
   "execution_count": 119,
   "id": "29bc5738",
   "metadata": {},
   "outputs": [
    {
     "name": "stdout",
     "output_type": "stream",
     "text": [
      "2772\n",
      "[[-1, -1, -1, -1, -1, -1, -1, -1, -1, -1], [-1, -1, 24, 48, 78, 138, 222, 334, 702, 2772], [-1, -1, -1, 36, 81, 171, 297, 465, 1017, 4122], [-1, -1, -1, -1, 60, 162, 300, 480, 1212, 4581], [-1, -1, -1, -1, -1, 90, 216, 384, 936, 4041], [-1, -1, -1, -1, -1, -1, 210, 490, 1410, 6585], [-1, -1, -1, -1, -1, -1, -1, 336, 1440, 7650], [-1, -1, -1, -1, -1, -1, -1, -1, 1288, 8533], [-1, -1, -1, -1, -1, -1, -1, -1, -1, 8280], [-1, -1, -1, -1, -1, -1, -1, -1, -1, -1]]\n"
     ]
    }
   ],
   "source": [
    "import math\n",
    "\n",
    "def solve(lst):\n",
    "    \n",
    "    global dp\n",
    "    n = len(lst)-1\n",
    "    dp = [[-1]*n for _ in range(n)]\n",
    "    \n",
    "    def helper(i, j):\n",
    "        if i >= j:\n",
    "            return 0\n",
    "        \n",
    "        if dp[i][j] != -1:\n",
    "            return dp[i][j]\n",
    "        \n",
    "        dp[i][j] = math.inf\n",
    "        for k in range(i, j):\n",
    "            dp[i][j] = min(\n",
    "                dp[i][j],\n",
    "                helper(i, k) + helper(k+1, j) + lst[i-1]*lst[k]*lst[j]\n",
    "            )\n",
    "            \n",
    "        return dp[i][j]\n",
    "    return helper(1, n-1)\n",
    "            \n",
    "        \n",
    "lst = [2, 3, 4, 3, 5, 6, 7, 8, 23, 45, 67]\n",
    "\n",
    "if __name__ == '__main__':\n",
    "    dp = []\n",
    "    print(solve(lst))\n",
    "    print(dp)"
   ]
  },
  {
   "cell_type": "code",
   "execution_count": null,
   "id": "55f85402",
   "metadata": {},
   "outputs": [],
   "source": []
  }
 ],
 "metadata": {
  "kernelspec": {
   "display_name": "Python 3 (ipykernel)",
   "language": "python",
   "name": "python3"
  },
  "language_info": {
   "codemirror_mode": {
    "name": "ipython",
    "version": 3
   },
   "file_extension": ".py",
   "mimetype": "text/x-python",
   "name": "python",
   "nbconvert_exporter": "python",
   "pygments_lexer": "ipython3",
   "version": "3.10.12"
  }
 },
 "nbformat": 4,
 "nbformat_minor": 5
}
