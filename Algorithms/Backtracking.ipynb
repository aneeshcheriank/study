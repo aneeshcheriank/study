{
 "cells": [
  {
   "cell_type": "markdown",
   "id": "e0f55ee3",
   "metadata": {},
   "source": [
    "## Backtracking\n",
    "\n",
    "- function general structure\n",
    "```\n",
    "def solve():\n",
    "    # base condition\n",
    "    if is_solved():\n",
    "        print / save\n",
    "    \n",
    "    # choices\n",
    "    for c in choices:\n",
    "        if valid(): # controlled recursion\n",
    "            solve()\n",
    "```\n",
    "### important considerations\n",
    "- is solve\n",
    "- is valid\n",
    "- choices\n",
    "<br>\n",
    "<br>\n",
    "\n",
    "- problems\n",
    "    - permutation of strings\n",
    "    - largest number in kth swap\n",
    "    - N digit number with digit in increasing order\n",
    "    - rat in a maze\n",
    "    - ward berak\n",
    "    - palindrome partitioning\n",
    "    - combination sum\n",
    "    - sudoko\n",
    "    - N Queens\n",
    "    - \n",
    "    \n",
    "    "
   ]
  },
  {
   "cell_type": "markdown",
   "id": "c5e627d4",
   "metadata": {},
   "source": [
    "## 1. Permutation of strings\n",
    "- input: string\n",
    "    - abc\n",
    "- optput: lst\n",
    "    - all unique permutations of the given string"
   ]
  },
  {
   "cell_type": "code",
   "execution_count": 19,
   "id": "2dc70064",
   "metadata": {},
   "outputs": [
    {
     "name": "stdout",
     "output_type": "stream",
     "text": [
      "['aabc', 'aacb', 'abac', 'abca', 'acab', 'acba', 'baac', 'baca', 'bcaa', 'caab', 'caba', 'cbaa']\n",
      "12\n"
     ]
    }
   ],
   "source": [
    "def solve(s_in, s_out):\n",
    "    \n",
    "    global lst\n",
    "    # to remove duplicates\n",
    "    # need to check in the context of a function\n",
    "    # not in all recursions\n",
    "    check = []\n",
    "    \n",
    "    \n",
    "    # base condition\n",
    "    if len(s_in) == 0:\n",
    "        lst.append(s_out)\n",
    "        return # to exit the function once the permutation is complete (one condition)\n",
    "    \n",
    "    # choices\n",
    "    for i in range(len(s_in)):\n",
    "        # function to extract character and rest of the string\n",
    "        c, s = extract_char(s_in, i)\n",
    "        \n",
    "        if c not in check:\n",
    "            check.append(c)\n",
    "            s_out += c\n",
    "            solve(s, s_out)\n",
    "            # Remove the last character added for backtracking\n",
    "            s_out = s_out[:-1]  \n",
    "\n",
    "def extract_char(string, index):\n",
    "    return string[index], string[:index]+string[index+1:]\n",
    "\n",
    "            \n",
    "lst = []\n",
    "check = []\n",
    "s = 'aabc'\n",
    "solve(s, '')\n",
    "print(lst)\n",
    "print(len(lst))"
   ]
  },
  {
   "cell_type": "code",
   "execution_count": null,
   "id": "cede4da4",
   "metadata": {},
   "outputs": [],
   "source": []
  }
 ],
 "metadata": {
  "kernelspec": {
   "display_name": "Python 3 (ipykernel)",
   "language": "python",
   "name": "python3"
  },
  "language_info": {
   "codemirror_mode": {
    "name": "ipython",
    "version": 3
   },
   "file_extension": ".py",
   "mimetype": "text/x-python",
   "name": "python",
   "nbconvert_exporter": "python",
   "pygments_lexer": "ipython3",
   "version": "3.10.12"
  }
 },
 "nbformat": 4,
 "nbformat_minor": 5
}
